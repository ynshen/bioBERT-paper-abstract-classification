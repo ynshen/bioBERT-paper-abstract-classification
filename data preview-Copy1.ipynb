{
 "cells": [
  {
   "cell_type": "code",
   "execution_count": 26,
   "metadata": {
    "ExecuteTime": {
     "end_time": "2019-06-05T00:49:28.982529Z",
     "start_time": "2019-06-05T00:49:28.976985Z"
    },
    "collapsed": true,
    "init_cell": true
   },
   "outputs": [],
   "source": [
    "LIB_DIR = '/home/yuning/Work/cs-273/src/'\n",
    "import sys\n",
    "if LIB_DIR not in sys.path:\n",
    "    sys.path.insert(0, LIB_DIR)\n",
    "\n",
    "import importlib\n",
    "from pprint import pprint\n",
    "from ref.atminter.lib.modules.paperparse import SpFile\n",
    "import pandas as pd\n",
    "import numpy as np\n",
    "import util\n",
    "import os\n",
    "import glob"
   ]
  },
  {
   "cell_type": "markdown",
   "metadata": {},
   "source": [
    "# Export dataset for Bert"
   ]
  },
  {
   "cell_type": "code",
   "execution_count": 29,
   "metadata": {
    "ExecuteTime": {
     "end_time": "2019-06-05T00:49:47.132110Z",
     "start_time": "2019-06-05T00:49:46.828621Z"
    },
    "collapsed": true,
    "init_cell": true
   },
   "outputs": [],
   "source": [
    "class Abstract(object):\n",
    "\n",
    "    def __init__(self, id, label=None, title=None, abstract=None):\n",
    "        self.id = id\n",
    "        if label is not None:\n",
    "            self.label = label\n",
    "        if title is not None:\n",
    "            self.title = title\n",
    "        if abstract is not None:\n",
    "            self.abstract = abstract\n",
    "\n",
    "class AnnData(object):\n",
    "\n",
    "    def __init__(self, abs_list):\n",
    "        self.dataset = abs_list\n",
    "        pass\n",
    "    \n",
    "    @staticmethod\n",
    "    def read_ann_file(file_dirc, ix=0):\n",
    "        \"\"\"function to read .ann file and convert to a list of Abstract objects\n",
    "        \"\"\"\n",
    "        import os\n",
    "        \n",
    "        print('Load file {}...'.format(os.path.basename(file_dirc)))\n",
    "        label_map = {\n",
    "            'F': 0,\n",
    "            'T': 1\n",
    "        }\n",
    "        \n",
    "        dataset = []\n",
    "        with open(file_dirc) as handle:\n",
    "            while True:\n",
    "                try:\n",
    "                    label = next(handle)\n",
    "                except StopIteration:\n",
    "                    break  #EoF\n",
    "                label = label_map[label[1].upper()]\n",
    "                title = next(handle)\n",
    "                if title[:4] == 'TI  ':\n",
    "                    title = title[6:]\n",
    "                if title[0] == '[' and title[-1] == ']':\n",
    "                    title = title[1:-1]\n",
    "                abstract = next(handle)\n",
    "                if abstract[:4] == 'AB  ':\n",
    "                    abstract = abstract[6:]\n",
    "                dataset.append(Abstract(id=ix, label=label, title=title, abstract=abstract))\n",
    "                ix += 1\n",
    "        return dataset    \n",
    "    \n",
    "    @classmethod\n",
    "    def from_ann_file(cls, file_dirc):\n",
    "        \"\"\"Create a dataset from .ann file\n",
    "        \"\"\"\n",
    "        \n",
    "        dataset = cls.read_ann_file(file_dirc)\n",
    "        return cls(dataset)\n",
    "        \n",
    "    def add_ann_file(self, file_dirc, inplace=True):\n",
    "        import os\n",
    "        \"\"\"Append dataset with new .ann file\"\"\"\n",
    "        \n",
    "        self.dataset += self.read_ann_file(file_dirc)\n",
    "    \n",
    "    def overview(self):\n",
    "        \"\"\"Print out overview of dataset\"\"\"\n",
    "        print('Dataset size: {}'.format(len(self.dataset)))\n",
    "        print('Positive: {}\\nNegative: {}'.format(\n",
    "            len([1 for data in self.dataset if data.label == 1]),\n",
    "            len([1 for data in self.dataset if data.label == 0])\n",
    "        ))\n",
    "        \n",
    "    def train_dev_test_split(self, ratio=(0.8, 0.1, 0.1), random_state=23, save_dirc=None):\n",
    "        \"\"\"Split dataset into train, dev, and test set.\n",
    "        Export as .tsv file if applicable, otherwise return three split datasets\n",
    "        \"\"\"\n",
    "        \n",
    "        from sklearn.model_selection import train_test_split\n",
    "        import os\n",
    "        \n",
    "        train = AnnData()\n",
    "        dev = AnnData()\n",
    "        test = AnnData()\n",
    "        train.dataset, test.dataset = train_test_split(self.dataset,\n",
    "                                                       train_size=ratio[0], test_size=1 - ratio[0],\n",
    "                                                       random_state=random_state,\n",
    "                                                       stratify=[data.label for data in self.dataset])\n",
    "        dev.dataset, test.dataset = train_test_split(test.dataset,\n",
    "                                                     train_size=ratio[1]/(ratio[1] + ratio[2]),\n",
    "                                                     test_size=ratio[2]/(ratio[1] + ratio[2]),\n",
    "                                                     random_state=random_state,\n",
    "                                                     stratify=[data.label for data in test.dataset])\n",
    "        if save_dirc is not None:\n",
    "            if not os.path.isdir(save_dirc):\n",
    "                os.mkdir(save_dirc)\n",
    "            train.to_tsv(save_dirc + '/train.tsv')\n",
    "            dev.to_tsv(save_dirc + '/dev.tsv')\n",
    "            test.to_tsv(save_dirc + '/test.tsv')\n",
    "        else:\n",
    "            return train, dev, test\n",
    "    \n",
    "    def KFold_split(self, k=10, save_data_to=None):\n",
    "        \"\"\"Generate stratified K-Fold cross-validator\n",
    "        \"\"\"\n",
    "        from sklearn.model_selection import StratifiedKFold\n",
    "        import os\n",
    "        \n",
    "        SKFold = StratifiedKFold(n_splits=k, random_state=23, shuffle=True)\n",
    "        \n",
    "        if save_data_to:\n",
    "            if not os.path.exists(save_data_to):\n",
    "                os.makedirs(save_data_to)\n",
    "        else:\n",
    "            k_fold_buffer = []\n",
    "        for set_ix, (train_index, test_index) in enumerate(SKFold.split(X=np.zeros(len(dataset)),\n",
    "                                                                        y=[data.label\n",
    "                                                                           for data in self.dataset])):\n",
    "            data = np.array(self.dataset)\n",
    "            train, test = AnnData(data[train_index]), AnnData(data[test_index])\n",
    "            if save_data_to:\n",
    "                os.makedirs(save_data_to + '/set_{}'.format(set_ix + 1))\n",
    "                train.to_tsv(save_data_to + '/set_{}'.format(set_ix + 1) + '/train.tsv')\n",
    "                test.to_tsv(save_data_to + '/set_{}'.format(set_ix + 1) + '/test.tsv')\n",
    "            else:\n",
    "                k_fold_buffer.append((train, test))\n",
    "        \n",
    "        if not save_data_to:\n",
    "            return k_fold_buffer\n",
    "    \n",
    "    def to_tsv(self, tsv_dirc, trunc_length=None):\n",
    "        import os\n",
    "        \n",
    "        def trunc_text(text, trunc_length):\n",
    "            \"\"\"Deprecated\n",
    "            \"\"\"\n",
    "            tokens = text.split()\n",
    "            if len(tokens) > trunc_length:\n",
    "                tokens = tokens[:trunc_length]\n",
    "            return ' '.join(tokens)\n",
    "        \n",
    "        if not os.path.exists(tsv_dirc[:tsv_dirc.rfind('/')]):\n",
    "            os.makedirs(tsv_dirc[:tsv_dirc.rfind('/')])\n",
    "        \n",
    "        with open(tsv_dirc, 'w') as handle:\n",
    "            handle.write('id\\ttext\\n')\n",
    "            for data in self.dataset:\n",
    "                if trunc_length:\n",
    "                    handle.write('{}\\t{}'.format(data.label, trunc_text(data.abstract, trunc_length)))\n",
    "                else:\n",
    "                    handle.write('{}\\t{}'.format(data.label, data.abstract))"
   ]
  },
  {
   "cell_type": "code",
   "execution_count": 30,
   "metadata": {
    "ExecuteTime": {
     "end_time": "2019-06-05T00:49:47.205689Z",
     "start_time": "2019-06-05T00:49:47.187662Z"
    }
   },
   "outputs": [
    {
     "name": "stdout",
     "output_type": "stream",
     "text": [
      "Load file lactobacillus_acidophilus#escherichia_coli.ann...\n",
      "Load file collated_train.ann...\n",
      "Dataset size: 4145\n",
      "Positive: 294\n",
      "Negative: 3851\n"
     ]
    }
   ],
   "source": [
    "dataset = AnnData.from_ann_file(file_dirc='/home/yuning/Work/cs-273/src/ref/atminter/data/train_test_data/lactobacillus_acidophilus#escherichia_coli.ann')\n",
    "dataset.add_ann_file(file_dirc='/home/yuning/Work/cs-273/src/ref/atminter/data/train_test_data/collated_train.ann')\n",
    "dataset.overview()"
   ]
  },
  {
   "cell_type": "code",
   "execution_count": 11,
   "metadata": {
    "ExecuteTime": {
     "end_time": "2019-05-28T02:49:52.398941Z",
     "start_time": "2019-05-28T02:49:52.382079Z"
    },
    "collapsed": true
   },
   "outputs": [],
   "source": [
    "train, dev, test = dataset.train_dev_test_split()\n",
    "train.to_tsv(tsv_dirc='/mnt/storage/projects/cs-273/bert_test/train.tsv', test=False)\n",
    "test.to_tsv(tsv_dirc='/mnt/storage/projects/cs-273/bert_test/test.tsv', test=True)\n",
    "dev.to_tsv(tsv_dirc='/mnt/storage/projects/cs-273/bert_test/dev.tsv', test=False)"
   ]
  },
  {
   "cell_type": "code",
   "execution_count": null,
   "metadata": {
    "collapsed": true
   },
   "outputs": [],
   "source": []
  },
  {
   "cell_type": "code",
   "execution_count": 139,
   "metadata": {
    "ExecuteTime": {
     "end_time": "2019-05-23T19:08:29.869555Z",
     "start_time": "2019-05-23T19:08:29.862700Z"
    }
   },
   "outputs": [
    {
     "name": "stdout",
     "output_type": "stream",
     "text": [
      "\u001b[1m\u001b[94mOriginal Bert Model, 1 epoch\u001b[0m\n",
      "{'Accuracy': 0.927710843373494,\n",
      " 'F1': nan,\n",
      " 'FN': 30,\n",
      " 'FP': 0,\n",
      " 'Precision': nan,\n",
      " 'Recall': 0.0,\n",
      " 'TN': 385,\n",
      " 'TP': 0}\n"
     ]
    },
    {
     "name": "stderr",
     "output_type": "stream",
     "text": [
      "/home/yuning/.pyenv/versions/anaconda3-5.0.1/lib/python3.6/site-packages/ipykernel/__main__.py:13: RuntimeWarning: invalid value encountered in long_scalars\n"
     ]
    }
   ],
   "source": [
    "def pred_stats(predict, labels):\n",
    "    res = {}\n",
    "    res['TP'] = np.sum(np.logical_and(predict, labels))\n",
    "    res['TN'] = np.sum(np.logical_and(1 - predict, 1 - labels))\n",
    "    res['FP'] = np.sum(predict) - res['TP']\n",
    "    res['FN'] = np.sum(1 - predict) - res['TN']\n",
    "    res['Accuracy'] = (res['TP'] + res['TN'])/(res['TP'] + res['TN'] + res['FP'] + res['FN'])\n",
    "    res['Precision'] = res['TP']/(res['TP'] + res['FP'])\n",
    "    res['Recall'] = res['TP']/(res['TP'] + res['FN'])\n",
    "    res['F1'] = 2 * (res['Recall'] * res['Precision'])/(res['Recall'] + res['Precision'])\n",
    "    return res\n",
    "\n",
    "print(util.color.BOLD + util.color.BLUE + \\\n",
    "'Original Bert Model, 1 epoch' + util.color.END)\n",
    "\n",
    "test.load_predict('/mnt/storage/projects/cs-273/bert_test/tmp/predict/test_results.tsv')\n",
    "predict_res = np.array(test.predict[1] > test.predict[0], dtype=int)\n",
    "labels = np.array([data.label for data in test.dataset])\n",
    "pprint(pred_stats(predict_res, labels))"
   ]
  },
  {
   "cell_type": "code",
   "execution_count": 140,
   "metadata": {
    "ExecuteTime": {
     "end_time": "2019-05-23T19:09:03.792699Z",
     "start_time": "2019-05-23T19:09:03.786058Z"
    }
   },
   "outputs": [
    {
     "name": "stdout",
     "output_type": "stream",
     "text": [
      "\u001b[1m\u001b[94mOriginal Bert Model, 1 epoch\u001b[0m\n",
      "{'Accuracy': 0.9325301204819277,\n",
      " 'F1': 0.5,\n",
      " 'FN': 16,\n",
      " 'FP': 12,\n",
      " 'Precision': 0.5384615384615384,\n",
      " 'Recall': 0.4666666666666667,\n",
      " 'TN': 373,\n",
      " 'TP': 14}\n"
     ]
    }
   ],
   "source": [
    "print(util.color.BOLD + util.color.BLUE + \\\n",
    "'Original Bert Model, 5 epochs' + util.color.END)\n",
    "\n",
    "test.load_predict('/mnt/storage/projects/cs-273/bert_test/tmp_5_epochs/predict/test_results.tsv')\n",
    "predict_res = np.array(test.predict[1] > test.predict[0], dtype=int)\n",
    "labels = np.array([data.label for data in test.dataset])\n",
    "pprint(pred_stats(predict_res, labels))"
   ]
  },
  {
   "cell_type": "code",
   "execution_count": 141,
   "metadata": {
    "ExecuteTime": {
     "end_time": "2019-05-23T19:09:23.504485Z",
     "start_time": "2019-05-23T19:09:23.497695Z"
    }
   },
   "outputs": [
    {
     "name": "stdout",
     "output_type": "stream",
     "text": [
      "\u001b[1m\u001b[94mOriginal Bert Model, 1 epoch\u001b[0m\n",
      "{'Accuracy': 0.963855421686747,\n",
      " 'F1': 0.7368421052631577,\n",
      " 'FN': 9,\n",
      " 'FP': 6,\n",
      " 'Precision': 0.7777777777777778,\n",
      " 'Recall': 0.7,\n",
      " 'TN': 379,\n",
      " 'TP': 21}\n"
     ]
    }
   ],
   "source": [
    "print(util.color.BOLD + util.color.BLUE + \\\n",
    "'Original Bert Model, 1 epoch' + util.color.END)\n",
    "\n",
    "test.load_predict('/mnt/storage/projects/cs-273/bert_test/tmp_bioBert_5_epochs/predict/test_results.tsv')\n",
    "predict_res = np.array(test.predict[1] > test.predict[0], dtype=int)\n",
    "labels = np.array([data.label for data in test.dataset])\n",
    "pprint(pred_stats(predict_res, labels))"
   ]
  },
  {
   "cell_type": "code",
   "execution_count": 142,
   "metadata": {
    "ExecuteTime": {
     "end_time": "2019-05-23T21:47:00.164877Z",
     "start_time": "2019-05-23T21:47:00.156787Z"
    }
   },
   "outputs": [
    {
     "name": "stdout",
     "output_type": "stream",
     "text": [
      "\u001b[1m\u001b[94mBioBert Model, 10 epochs\u001b[0m\n",
      "{'Accuracy': 0.927710843373494,\n",
      " 'F1': nan,\n",
      " 'FN': 30,\n",
      " 'FP': 0,\n",
      " 'Precision': nan,\n",
      " 'Recall': 0.0,\n",
      " 'TN': 385,\n",
      " 'TP': 0}\n"
     ]
    },
    {
     "name": "stderr",
     "output_type": "stream",
     "text": [
      "/home/yuning/.pyenv/versions/anaconda3-5.0.1/lib/python3.6/site-packages/ipykernel/__main__.py:13: RuntimeWarning: invalid value encountered in long_scalars\n"
     ]
    }
   ],
   "source": [
    "print(util.color.BOLD + util.color.BLUE + \\\n",
    "'BioBert Model, 10 epochs' + util.color.END)\n",
    "\n",
    "test.load_predict('/mnt/storage/projects/cs-273/bert_test/tmp_bioBert_10_epochs/test_results.tsv')\n",
    "predict_res = np.array(test.predict[1] > test.predict[0], dtype=int)\n",
    "labels = np.array([data.label for data in test.dataset])\n",
    "pprint(pred_stats(predict_res, labels))"
   ]
  },
  {
   "cell_type": "code",
   "execution_count": 129,
   "metadata": {
    "ExecuteTime": {
     "end_time": "2019-05-23T18:56:29.885958Z",
     "start_time": "2019-05-23T18:56:29.880812Z"
    }
   },
   "outputs": [
    {
     "data": {
      "text/plain": [
       "{'FN': 9, 'FP': 6, 'TN': 379, 'TP': 21}"
      ]
     },
     "execution_count": 129,
     "metadata": {},
     "output_type": "execute_result"
    }
   ],
   "source": []
  },
  {
   "cell_type": "code",
   "execution_count": 161,
   "metadata": {
    "ExecuteTime": {
     "end_time": "2019-05-22T02:15:32.938113Z",
     "start_time": "2019-05-22T02:15:32.910436Z"
    },
    "collapsed": true
   },
   "outputs": [],
   "source": [
    "len_dist = [len(data.abstract.split()) for data in train.dataset]"
   ]
  },
  {
   "cell_type": "code",
   "execution_count": 71,
   "metadata": {
    "ExecuteTime": {
     "end_time": "2019-05-23T01:15:22.694480Z",
     "start_time": "2019-05-23T01:15:22.628361Z"
    },
    "scrolled": true
   },
   "outputs": [
    {
     "data": {
      "text/plain": [
       "'The aim of this study was to investigate the murein hydrolase activities of the surface layer proteins (SLPs) from two strains of Lactobacillus acidophilus using zymography. The influence of these hydrolase activities on Escherichia coli ATCC 43893 was also evaluated by analysing their growth curve, cell morphology and physiological state. After the incubation of E. coli with SLPs, growth was inhibited, the number of viable cells was significantly reduced, examination by transmission electron microscopy showed that the cell wall was damaged and flow cytometry results indicated that the majority of the cells were sublethally injured. All of these results suggested that the SLPs of both L. acidophilus strains possessed murein hydrolase activities that were sublethal to E. coli cells.\\n'"
      ]
     },
     "execution_count": 71,
     "metadata": {},
     "output_type": "execute_result"
    }
   ],
   "source": [
    "from ref.bert import tokenization\n",
    "tokenizer = tokenization.FullTokenizer(vocab_file='/mnt/storage/projects/cs-273/bert_pretrained/uncased_L-12_H-768_A-12/vocab.txt')"
   ]
  },
  {
   "cell_type": "code",
   "execution_count": 79,
   "metadata": {
    "ExecuteTime": {
     "end_time": "2019-05-23T01:25:32.688232Z",
     "start_time": "2019-05-23T01:25:22.168896Z"
    },
    "collapsed": true
   },
   "outputs": [],
   "source": [
    "abs_len = [len(data.abstract.split()) for data in dataset.dataset]\n",
    "abs_len_tokenized = [(data.label, len(tokenizer.tokenize(data.abstract))) for data in dataset.dataset]"
   ]
  },
  {
   "cell_type": "code",
   "execution_count": 81,
   "metadata": {
    "ExecuteTime": {
     "end_time": "2019-05-23T01:32:15.419593Z",
     "start_time": "2019-05-23T01:32:14.931238Z"
    }
   },
   "outputs": [
    {
     "data": {
      "image/png": "[encoded data removed]",
      "text/plain": [
       "<Figure size 432x288 with 1 Axes>"
      ]
     },
     "metadata": {
      "needs_background": "light"
     },
     "output_type": "display_data"
    },
    {
     "data": {
      "image/png": "[encoded data removed]",
      "text/plain": [
       "<Figure size 432x288 with 1 Axes>"
      ]
     },
     "metadata": {
      "needs_background": "light"
     },
     "output_type": "display_data"
    }
   ],
   "source": [
    "import matplotlib.pyplot as plt\n",
    "\n",
    "plt.hist(abs_len, bins=np.linspace(0, 1000, 101))\n",
    "plt.show()\n",
    "abs_len_tokenized_pos = np.array([abs_len[1] for abs_len in abs_len_tokenized if abs_len[0]==1])\n",
    "abs_len_tokenized_neg = np.array([abs_len[1] for abs_len in abs_len_tokenized if abs_len[0]==0])\n",
    "plt.hist(abs_len_tokenized_pos, bins=np.linspace(0, 1000, 101), zorder=2)\n",
    "plt.hist(abs_len_tokenized_neg, bins=np.linspace(0, 1000, 101), zorder=1)\n",
    "plt.show()"
   ]
  },
  {
   "cell_type": "code",
   "execution_count": 83,
   "metadata": {
    "ExecuteTime": {
     "end_time": "2019-05-23T01:34:02.202191Z",
     "start_time": "2019-05-23T01:33:51.459303Z"
    }
   },
   "outputs": [
    {
     "name": "stdout",
     "output_type": "stream",
     "text": [
      "Bacteria isolated from surgical infections during the period from April 2011 to March 2012 were investigated in a multicenter study in Japan, and the following results were obtained. In this series, 785 strains including 31 strains of Candida spp. were isolated from 204 (78.8%) of 259 patients with surgical infections. Five hundred and twenty three strains were isolated from primary infections, and 231 strains were isolated from surgical site infection. From primary infections, anaerobic Gram-negative bacteria were predominant, followed by aerobic Gram-negative bacteria, while from surgical site infection aerobic Gram-positive bacteria were predominant, followed by anaerobic Gram-negative bacteria. Among aerobic Gram-positive bacteria, the isolation rate of Enterococcus spp. was highest, followed by Streptococcus spp. and Staphylococcus spp., in this order, from primary infections, while Enterococcus spp. was highest, followed by Staphylococcus spp. from surgical site infection. Among aerobic Gram-negative bacteria, Escherichia coli was the most predominantly isolated from primary infections, followed by Klebsiella pneumoniae, Pseudomonas aeruginosa and Enterobacter cloacae, in this order, and from surgical site infection, E. coli was most predominantly isolated, followed by P. aeruginosa, K. pneumoniae, and E. cloacae. Among anaerobic Gram-positive bacteria, the isolation rate of Eggerthella lenta was the highest from primary infections, followed by Parvimonas micra, Collinsella aerofaciens, Lactobacillus acidophilus and Finegoldia magna, and from surgical site infection, E. lenta was most predominantly isolated, followed by P micra and L. acidophilus, in this order. Among anaerobic Gram-negative bacteria, the isolation rate of Bacteroidesfragilis was the highest from primary infections, followed by Bilophila wadsworthia, Bacteroides thetaiotaomicron, Bacteroides uniformis and Bacteroides vulgatus, and from surgical site infection, B. fragilis was most predominantly isolated, followed by Bacteroides caccae, B. thetaiotaomicron, Bacteroides ovatus and B. wadsworthia, in this order. In this series, vancomycin-resistant MRSA (methicillin-resistant Staphylococcus aureus), vancomycin-resistant Enterococcus spp. and multidrug-resistant P. aeruginosa were not observed. We should carefully follow up B. wadsworthia which was resistant to various antimicrobial agents, and also Bacteroides spp. which was resistant to many beta-lactams.\n",
      "\n",
      "BACKGROUND: The success of the probiotics in delivery of health benefits depends  on their ability to withstand the technological and gastrointestinal conditions; hence development of robust cultures is critical to the probiotic industry. Combinations of probiotic cultures have proven to be more effective than the use of single cultures for treatment and prevention of heterogeneous diseases. We investigated the effect of pre- adaptation of probiotics to multiple stresses on their stability under simulated gastrointestinal conditions and the effect of their singular as well as their synergistic antagonistic effect against selected enteric pathogens. METHODS: Probiotic cultures were inoculated into MRS broth adjusted to pH 2 and incubated for 2 h at 37 degrees C. Survivors of pH 2 were subcultured into 2% bile acid for 1 h at 37 degrees C. Cells that showed growth after exposure to 2% bile acid for 1 h were finally inoculated in fresh MRS broth and incubated at 55 degrees C for 2 h. The cells surviving were then used as stress adapted cultures. The adapted cultures were exposed to simulated gastrointestinal conditions and their non- adapted counterparts were used to compare the effects of stress adaptation. The combination cultures were tested for their antipathogenic effects on Escherichia coli and Staphylococcus aureus. RESULTS: Acid and bile tolerances of most of the stress-adapted cells were higher than of the non-adapted cells. Viable counts of all the stress-adapted lactobacilli and Bifidobacterium longum LMG 13197 were higher after sequential exposure to simulated gastric and intestinal fluids. However, for B. longum Bb46 and B. bifidum LMG 13197, viability of non-adapted cells was higher than for adapted cells after exposure to these fluids. A cocktail containing L. plantarum + B. longum Bb46 + B. longum LMG 13197 best inhibited S. aureus while E. coli was best inhibited by a combination containing L. acidophilus La14 150B + B. longum Bb46 + B. bifidum LMG 11041. A cocktail containing the six non- adapted cultures was the least effective in inhibiting the pathogens. CONCLUSION: Multi-stress pre-adaptation enhances viability of probiotics under simulated gastrointestinal conditions; and formulations containing a mixture of multi stress-adapted cells exhibits enhanced synergistic effects against foodborne pathogens.\n",
      "\n",
      "The aim of this research was to monitor the survival during refrigerated storage  of Lactobacillus acidophilus LA-5 (A), Bifidobacterium animalis ssp. lactis BB-12 (B), and Streptococcus thermophilus CHCC 742/2130 (T) in cultured dairy foods made from camel and, for comparison, cow milks supplemented with black locust (Robinia pseudoacacia L.) honey and fermented by an acidophilus-bifidus-thermophilus (ABT)-type culture. Two liters of dromedary camel milk and 2 L of cow milk were heated to 90 degrees C and held for 10 min, then cooled to 40 degrees C. One half of both types of milk was fortified with black locust honey at the rate of 5.0% (wt/vol), whereas the other half was devoid of honey and served as a control. The camel and cow milks with and without honey were subsequently inoculated with ABT-5 culture and were fermented at 37 degrees C until a pH value of 4.6 was reached. Thereafter, the probiotic fermented milks were cooled to 15 degrees C in ice water and were each separated into 18 fractions that were transferred in sterile, tightly capped centrifuge tubes. After 24 h of cooling at 8 degrees C (d 0), the samples were stored at refrigeration temperature (4 degrees C). Three tubes of all 4 products (i.e., fermented camel and cow milks with and without honey) were taken at each sampling time (i.e., following 0, 7, 14, 21, 28, and 35 d of storage), and the counts of characteristic microorganisms and those of certain spoilage microbes (yeasts, molds, coliforms, Escherichia coli) were enumerated. The entire experimental program was repeated twice. The results showed that addition of black locust honey at 5% to heat-treated camel and cow milks did not influence the growth and survival of starter streptococci during production and subsequent refrigerated storage of fermented ABT milks. In contrast, honey improved retention of viability of B. animalis ssp. lactis BB-12 in the camel milk-based product during storage at 4 degrees C up to 5 wk. No spoilage organisms were detected in any of the samples tested in this study. In conclusion, supplementation of cultured dairy foods, especially those made from camel milk, with honey is recommended because honey is a healthy natural sweetener with a variety of beneficial microbiological, nutritional, and sensory properties.\n",
      "\n",
      "BACKGROUND: Adhesiveness to intestinal epithelium, beneficial immunomodulating effects and the production of pathogen-inhibitory compounds are generally considered as beneficial characteristics of probiotic organisms. We showed the potential health-promoting properties and the mechanisms of probiotic action of seven swine intestinal Lactobacillus amylovorus isolates plus the type strain (DSM 20531T) by investigating their adherence to porcine intestinal epithelial cells (IPEC-1) and mucus as well as the capacities of the strains to i) inhibit the adherence of Escherichia coli to IPEC-1 cells, ii) to produce soluble inhibitors against intestinal pathogens and iii) to induce immune signaling in dendritic cells (DCs). Moreover, the role of the L. amylovorus surface (S) -layers - symmetric, porous arrays of identical protein subunits present as the outermost layer of the cell envelope - in adherence to IPEC-1 cells was assessed using a novel approach which utilized purified cell wall fragments of the strains as carriers for the recombinantly produced S-layer proteins. RESULTS: Three of the L. amylovorus strains studied adhered to IPEC-1 cells, while four strains inhibited the adherence of E. coli, indicating additional mechanisms other than competition for binding sites being involved in the inhibition. None of the strains bound to porcine mucus. The culture supernatants of all of the strains exerted inhibitory effects on the growth of E. coli, Salmonella, Listeria and Yersinia, and a variable, strain-dependent induction was observed of both pro- and anti-inflammatory cytokines in human DCs. L. amylovorus DSM 16698 was shown to carry two S-layer-like proteins on its surface in addition to the major S-layer protein SlpA. In contrast to expectations, none of the major S-layer proteins of the IPEC-1 -adhering strains mediated bacterial adherence. CONCLUSIONS: We demonstrated adhesive and significant pathogen inhibitory efficacies among the swine intestinal L. amylovorus strains studied, pointing to their potential use as probiotic feed supplements, but no independent role could be demonstrated for the major S-layer proteins in adherence to epithelial cells. The results indicate that many intestinal bacteria may coexist with and confer benefits to the host by mechanisms not attributable to adhesion to epithelial cells or mucus.\n",
      "\n",
      "To evaluate the efficacy of a type-III secreted proteins vaccine and a Lactobacillus-acidophilus-based direct-fed microbial (DFM) for controlling Escherichia coli O157:H7, cattle (n=864) were allocated to the following groups: DFM, finishing diets containing 10(9) colony-forming units (CFU)/animal/day L. acidophilus and Propionibacterium freudenreichii; VAC, finishing diets and 2 mL intramuscular injection of vaccine at allocation and 28 days later; or CON, finishing diets only. Cattle withi"
     ]
    },
    {
     "data": {
      "text/html": [
       "<b>limit_output extension: Maximum message size of 10000 exceeded with 27456 characters</b>"
      ]
     },
     "metadata": {},
     "output_type": "display_data"
    }
   ],
   "source": [
    "for data in dataset.dataset:\n",
    "    if len(tokenizer.tokenize(data.abstract)) > 510:\n",
    "        print(data.abstract)"
   ]
  },
  {
   "cell_type": "markdown",
   "metadata": {},
   "source": [
    "# Align and check dataset from @MInter\n",
    "## Load dataset\n",
    "\n"
   ]
  },
  {
   "cell_type": "code",
   "execution_count": 28,
   "metadata": {
    "ExecuteTime": {
     "end_time": "2019-06-05T00:49:29.454033Z",
     "start_time": "2019-06-05T00:49:29.294706Z"
    },
    "collapsed": true,
    "init_cell": true
   },
   "outputs": [],
   "source": [
    "\"\"\"Currently, we only care about abstract level classification\n",
    "\"\"\"\n",
    "\n",
    "\n",
    "class SupplementData:\n",
    "\n",
    "    def __init__(self, supple_dir, silent=False):\n",
    "        \n",
    "        def load_abstract_labels(xl):\n",
    "            abstract_labels = {}\n",
    "            redundency_log = {}\n",
    "            for label, pmid in zip(xl['Interaction'], xl['PMID']):\n",
    "                if pmid in abstract_labels.keys():\n",
    "                    abstract_labels[pmid] = max(abstract_labels[pmid], label)\n",
    "                    if pmid in redundency_log.keys():\n",
    "                        redundency_log[pmid] += str(label)\n",
    "                    else:\n",
    "                        redundency_log[pmid] = str(abstract_labels[pmid]) + str(label)\n",
    "                else:\n",
    "                    abstract_labels[pmid] = label\n",
    "            return abstract_labels, redundency_log\n",
    "            \n",
    "        if supple_dir[-1] != '/':\n",
    "            supple_dir += '/'\n",
    "        if not silent:\n",
    "            print(util.color.BOLD + util.color.BLUE + \\\n",
    "                  'Load supplement info...' + util.color.END)\n",
    "\n",
    "        # s1: Core dataset PMIDs\n",
    "        self.core_dataset = {\n",
    "            'core_pair': ('lactobacillus acidophilus', 'escherichia coli')\n",
    "        }\n",
    "        xl = pd.ExcelFile(supple_dir + 'Supplementary_file_1_Core_Dataset_PMIDs.xlsx')\n",
    "        xl = xl.parse(xl.sheet_names[0])\n",
    "        self.core_dataset['abstract_labels'], self.core_dataset['redundency_log'] = load_abstract_labels(xl)\n",
    "        \n",
    "        if not silent:\n",
    "            print(\"Core dataset:\\tCore pair:{}\\n\\t\\tTotal abstract number:{}\\n\\t\\tUnique abstract number:{}\\n\\t\\tw/ interaction:{}\\n\\t\\tredundent:{}\".format(\n",
    "                self.core_dataset['core_pair'],\n",
    "                len(xl['Interaction']),\n",
    "                len(self.core_dataset['abstract_labels']),\n",
    "                np.sum(list(self.core_dataset['abstract_labels'].values())),\n",
    "                len(self.core_dataset['redundency_log'])\n",
    "            ))\n",
    "\n",
    "        # s2: Extended dataset, all pairs of interaction identified, NOT IMPORTANT FOR NOW\n",
    "        self.ext_dataset = {}\n",
    "        xl = pd.ExcelFile(supple_dir + 'Supplementary_file_2_Extended_Dataset_Interactions.xlsx')\n",
    "        xl = xl.parse(xl.sheet_names[0])\n",
    "        effect_converter = lambda effect: -1 if effect == '-' else 1\n",
    "        self.ext_dataset['all_pairs'] = {\n",
    "            (effector.lower(), effectee.lower()): effect_converter(effect)\n",
    "            for effector, effectee, effect in zip(xl['Effector'], xl['Effectee'], xl['Interaction'])\n",
    "        }\n",
    "        if not silent:\n",
    "            print('Ext. dataset:\\tinteraction pairs:{}\\n\\t\\tredundent:{}'.format(\n",
    "                len(self.ext_dataset['all_pairs']),\n",
    "                len(xl['Effector']) - len(self.ext_dataset['all_pairs'])\n",
    "            ))\n",
    "    \n",
    "        # s3: Extended dataset, all abstracts\n",
    "        xl = pd.ExcelFile(supple_dir + 'Supplementary_file_3_Extended_Dataset_PMIDs.xlsx')\n",
    "        xl = xl.parse(xl.sheet_names[0])\n",
    "        self.ext_dataset['abstract_labels'], self.ext_dataset['redundency_log'] = load_abstract_labels(xl)\n",
    "        print(\"\\t\\tTotal abstract number:{}\\n\\t\\tUnique abstract number:{}\\n\\t\\tw/ interaction:{}\\n\\t\\tredundent:{}\".format(\n",
    "                len(xl['Interaction']),\n",
    "                len(self.ext_dataset['abstract_labels']),\n",
    "                np.sum(list(self.ext_dataset['abstract_labels'].values())),\n",
    "                len(self.ext_dataset['redundency_log'])\n",
    "            ))\n",
    "\n",
    "class CollatedSpFiles:\n",
    "    \"\"\"Currently only read info related to abstracts\n",
    "    \"\"\"\n",
    "    \n",
    "    def __init__(self, collated_dir, silent=False):\n",
    "        from ref.atminter.lib.modules.paperparse import spFile\n",
    "        \n",
    "        print(util.color.BOLD + util.color.BLUE + \\\n",
    "        'Survey the .sp files under {}'.format(collated_dir) + util.color.END)\n",
    "\n",
    "        import glob\n",
    "\n",
    "        self.abstracts = {}\n",
    "\n",
    "        for set_num in [1, 2, 3, 4, 5]:\n",
    "            files = glob.glob(collated_dir + 'set_{}/*.sp'.format(set_num))\n",
    "            print(\"set_{}: number of spFiles: {}\".format(set_num, len(files)))\n",
    "            for file in files:\n",
    "                sp_file = spFile(spFilePath=file)\n",
    "                abstract_list = {\n",
    "                    paper['PMID']: {\n",
    "                        'title': paper['TI  '],\n",
    "                        'abstract': paper['AB  ']\n",
    "                    } for paper in sp_file.papers\n",
    "                }\n",
    "                for pmid in abstract_list.keys():\n",
    "                    if pmid in self.abstracts.keys():\n",
    "                        if abstract_list[pmid]['title'] != self.abstracts[pmid]['title']:\n",
    "                            print('Paper info not matching: {}: {} vs. {}'.format(\n",
    "                                pmid,\n",
    "                                abstract_list[pmid]['title'],\n",
    "                                self.abstracts[pmid]['title']\n",
    "                            ))\n",
    "                self.abstracts.update(abstract_list)\n",
    "\n",
    "        print('Number of abstracts with different PMID: {}'.format(len(self.abstracts)))\n",
    "\n",
    "class atMInterData:\n",
    "    \n",
    "    def __init__(self, supple_dir=None, collated_dir=None, silent=False):\n",
    "        if supple_dir:\n",
    "            atMInterData.supple_data = SupplementData(supple_dir, silent)\n",
    "        if collated_dir:\n",
    "            atMInterData.abstract = CollatedSpFiles(collated_dir, silent)"
   ]
  },
  {
   "cell_type": "code",
   "execution_count": 98,
   "metadata": {
    "ExecuteTime": {
     "end_time": "2019-05-22T00:35:20.662859Z",
     "start_time": "2019-05-22T00:35:20.657954Z"
    }
   },
   "outputs": [
    {
     "data": {
      "text/plain": [
       "{'AB  ': 'objective: to analyze the cervical microbiota in women with preterm prelabor rupture of membranes (pprom) by pyrosequencing and to document associations between cervical microbiota, cervical inflammatory response, microbial invasion of the amniotic cavity (miac), histological chorioamnionitis, and intraamniotic infection (iai). study design: sixty-one women with singleton pregnancies complicated by pprom were included in the study. specimens of cervical and amniotic fluid were collected on admission. the cervical microbiota was assessed  by 16s rrna gene sequencing by pyrosequencing. interleukin (il)-6 concentration in the cervical fluid and amniotic fluid was measured by elisa and lateral flow immunoassay, respectively. results: four bacterial community state types [cst i (lactobacillus crispatus dominated), cst iii (lactobacillus iners dominated), cst iv-a (non-lactobacillus bacteria dominated), and cst iv-b (gardnerella vaginalis  and sneathia sanguinegens dominated)] were observed in the cervical microbiota of women with pprom. cervical fluid il-6 concentrations differed between csts (cst i = 145 pg/ml, cst iii = 166 pg/ml, cst iv-a = 420 pg/ml, and cst iv-b = 322 pg/ml; p = 0.004). there were also differences in the rates of miac, of both miac and histological chorioamnionitis, and of iai among csts. no difference in the rate of histological chorioamnionitis was found among csts. conclusions: the cervical  microbiota in pprom women in this study was characterized by four csts. the presence of non-lactobacillus csts was associated with a strong cervical inflammatory response and higher rates of miac, both miac and histological chorioamnionitis, and iai representing a pprom subtype with pronounced inflammation. cst i represents the dominant type of pprom with a low rate of miac, iai, and the combination of miac and histological chorioamnionitis.',\n",
       " 'ABHT': '',\n",
       " 'PMID': '25993616',\n",
       " 'TI  ': 'cervical microbiota in women with preterm prelabor rupture of membranes.',\n",
       " 'TIHT': ''}"
      ]
     },
     "execution_count": 98,
     "metadata": {},
     "output_type": "execute_result"
    }
   ],
   "source": [
    "sp_file.papers[0]"
   ]
  },
  {
   "cell_type": "code",
   "execution_count": 72,
   "metadata": {
    "ExecuteTime": {
     "end_time": "2019-05-21T23:24:38.963968Z",
     "start_time": "2019-05-21T23:24:38.958521Z"
    }
   },
   "outputs": [
    {
     "data": {
      "text/plain": [
       "-1"
      ]
     },
     "execution_count": 72,
     "metadata": {},
     "output_type": "execute_result"
    }
   ],
   "source": [
    "atMInterData.supple_data.ext_dataset['all_pairs'][(sp_file.species_names[0].lower(), sp_file.species_names[1].lower())]"
   ]
  },
  {
   "cell_type": "code",
   "execution_count": 61,
   "metadata": {
    "ExecuteTime": {
     "end_time": "2019-05-23T01:12:45.168992Z",
     "start_time": "2019-05-23T01:12:45.103405Z"
    },
    "collapsed": true
   },
   "outputs": [],
   "source": []
  },
  {
   "cell_type": "code",
   "execution_count": 63,
   "metadata": {
    "ExecuteTime": {
     "end_time": "2019-05-23T01:13:10.932162Z",
     "start_time": "2019-05-23T01:13:10.928861Z"
    }
   },
   "outputs": [
    {
     "data": {
      "text/plain": [
       "['here', 'is', 'a', 'sentence', 'to', 'token', '##ize']"
      ]
     },
     "execution_count": 63,
     "metadata": {},
     "output_type": "execute_result"
    }
   ],
   "source": []
  },
  {
   "cell_type": "code",
   "execution_count": null,
   "metadata": {
    "collapsed": true
   },
   "outputs": [],
   "source": []
  },
  {
   "cell_type": "markdown",
   "metadata": {},
   "source": [
    "## Info reported in supplementary files"
   ]
  },
  {
   "cell_type": "code",
   "execution_count": 103,
   "metadata": {
    "ExecuteTime": {
     "end_time": "2019-05-22T00:49:25.757630Z",
     "start_time": "2019-05-22T00:46:54.389137Z"
    },
    "scrolled": false
   },
   "outputs": [
    {
     "name": "stdout",
     "output_type": "stream",
     "text": [
      "\u001b[1m\u001b[94mLoad supplement info...\u001b[0m\n",
      "Core dataset:\tCore pair:('lactobacillus acidophilus', 'escherichia coli')\n",
      "\t\tTotal abstract number:350\n",
      "\t\tUnique abstract number:350\n",
      "\t\tw/ interaction:79\n",
      "\t\tredundent:0\n",
      "Ext. dataset:\tinteraction pairs:59\n",
      "\t\tredundent:3\n",
      "\t\tTotal abstract number:3567\n",
      "\t\tUnique abstract number:3454\n",
      "\t\tw/ interaction:150\n",
      "\t\tredundent:103\n",
      "\u001b[1m\u001b[94mSurvey the .sp files under /home/yuning/Work/cs-273/src/ref/atminter/data/train_test_data/collated_annotations/\u001b[0m\n",
      "set_1: number of spFiles: 155\n",
      "Paper info not matching: 20173067: characterization of a novel lysm domain from lactobacillus fermentum bacteriophage endolysin and its use as an anchor to diplay heterologous proteins on the surfaces of lactic acid bacteria. vs. characterization of a novel lysm domain from lactobacillus fermentum bacteriophage endolysin and its use as an anchor to display heterologous proteins on the surfaces of lactic acid bacteria.\n",
      "set_2: number of spFiles: 150\n",
      "set_3: number of spFiles: 153\n",
      "set_4: number of spFiles: 135\n",
      "set_5: number of spFiles: 153\n",
      "Number of abstracts with different PMID: 29948\n"
     ]
    }
   ],
   "source": [
    "MInterData = atMInterData(\n",
    "    supple_dir='/home/yuning/Work/cs-273/src/ref/atminter/supplement_info/',\n",
    "    collated_dir='/home/yuning/Work/cs-273/src/ref/atminter/data/train_test_data/collated_annotations/'\n",
    ")"
   ]
  },
  {
   "cell_type": "code",
   "execution_count": 113,
   "metadata": {
    "ExecuteTime": {
     "end_time": "2019-05-22T00:53:07.859446Z",
     "start_time": "2019-05-22T00:53:07.843410Z"
    },
    "scrolled": true
   },
   "outputs": [
    {
     "name": "stdout",
     "output_type": "stream",
     "text": [
      "PMID 25841372 not in abstracts\n",
      "PMID 25631500 not in abstracts\n",
      "PMID 25601531 not in abstracts\n",
      "PMID 25577203 not in abstracts\n",
      "PMID 25332067 not in abstracts\n",
      "PMID 25070625 not in abstracts\n",
      "PMID 25035238 not in abstracts\n",
      "PMID 25005143 not in abstracts\n",
      "PMID 24913559 not in abstracts\n",
      "PMID 24864468 not in abstracts\n",
      "PMID 24751204 not in abstracts\n",
      "PMID 24673729 not in abstracts\n",
      "PMID 24444879 not in abstracts\n",
      "PMID 24416925 not in abstracts\n",
      "PMID 24341217 not in abstracts\n",
      "PMID 24286301 not in abstracts\n",
      "PMID 24118877 not in abstracts\n",
      "PMID 24053022 not in abstracts\n",
      "PMID 23947161 not in abstracts\n",
      "PMID 23930950 not in abstracts\n",
      "PMID 23568210 not in abstracts\n",
      "PMID 23436519 not in abstracts\n",
      "PMID 23392622 not in abstracts\n",
      "PMID 23135901 not in abstracts\n",
      "PMID 23118903 not in abstracts\n",
      "PMID 23071487 not in abstracts\n",
      "PMID 23043828 not in abstracts\n",
      "PMID 22937706 not in abstracts\n",
      "PMID 22857743 not in abstracts\n",
      "PMID 22704925 not in abstracts\n",
      "PMID 22583547 not in abstracts\n",
      "PMID 22424821 not in abstracts\n",
      "PMID 22034161 not in abstracts\n",
      "PMID 21960522 not in abstracts\n",
      "PMID 21535612 not in abstracts\n",
      "PMID 21413346 not in abstracts\n",
      "PMID 21328629 not in abstracts\n",
      "PMID 21181148 not in abstracts\n",
      "PMID 20930349 not in abstracts\n",
      "PMID 20880591 not in abstracts\n",
      "PMID 20815975 not in abstracts\n",
      "PMID 20688230 not in abstracts\n",
      "PMID 24031540 not in abstracts\n",
      "PMID 20392597 not in abstracts\n",
      "PMID 20085657 not in abstracts\n",
      "PMID 20038684 not in abstracts\n",
      "PMID 19948865 not in abstracts\n",
      "PMID 19919544 not in abstracts\n",
      "PMID 19841976 not in abstracts\n",
      "PMID 19817754 not in abstracts\n",
      "PMID 19350978 not in abstracts\n",
      "PMID 19346347 not in abstracts\n",
      "PMID 19291088 not in abstracts\n",
      "PMID 19160814 not in abstracts\n",
      "PMID 19116880 not in abstracts\n",
      "PMID 19103165 not in abstracts\n",
      "PMID 19088323 not in abstracts\n",
      "PMID 19044272 not in abstracts\n",
      "PMID 19016876 not in abstracts\n",
      "PMID 18828902 not in abstracts\n",
      "PMID 18667857 not in abstracts\n",
      "PMID 18406653 not in abstracts\n",
      "PMID 18389697 not in abstracts\n",
      "PMID 18388461 not in abstracts\n",
      "PMID 18386502 not in abstracts\n",
      "PMID 18067535 not in abstracts\n",
      "PMID 17969623 not in abstracts\n",
      "PMID 17803515 not in abstracts\n",
      "PMID 17598032 not in abstracts\n",
      "PMID 17536689 not in abstracts\n",
      "PMID 17496132 not in abstracts\n",
      "PMID 17354475 not in abstracts\n",
      "PMID 17340860 not in abstracts\n",
      "PMID 17145967 not in abstracts\n",
      "PMID 17032223 not in abstracts\n",
      "PMID 16751525 not in abstracts\n",
      "PMID 16599990 not in abstracts\n",
      "PMID 16599299 not in abstracts\n",
      "PMID 16521107 not in abstracts\n",
      "PMID 16517684 not in abstracts\n",
      "PMID 16332821 not in abstracts\n",
      "PMID 16306191 not in abstracts\n",
      "PMID 16301804 not in abstracts\n",
      "PMID 16232519 not in abstracts\n",
      "PMID 16112762 not in abstracts\n",
      "PMID 16041036 not in abstracts\n",
      "PMID 16014301 not in abstracts\n",
      "PMID 15749634 not in abstracts\n",
      "PMID 15690797 not in abstracts\n",
      "PMID 15151223 not in abstracts\n",
      "PMID 15044826 not in abstracts\n",
      "PMID 15000255 not in abstracts\n",
      "PMID 14614071 not in abstracts\n",
      "PMID 14601871 not in abstracts\n",
      "PMID 14503719 not in abstracts\n",
      "PMID 12747680 not in abstracts\n",
      "PMID 12588553 not in abstracts\n",
      "PMID 12516768 not in abstracts\n",
      "PMID 12351477 not in abstracts\n",
      "PMID 12186431 not in abstracts\n",
      "PMID 12151233 not in abstracts\n",
      "PMID 12038580 not in abstracts\n",
      "PMID 11895971 not in abstracts\n",
      "PMID 11307928 not in abstracts\n",
      "PMID 11136328 not in abstracts\n",
      "PMID 10923793 not in abstracts\n",
      "PMID 10821567 not in abstracts\n",
      "PMID 10676145 not in abstracts\n",
      "PMID 10664915 not in abstracts\n",
      "PMID 10643943 not in abstracts\n",
      "PMID 10417574 not in abstracts\n",
      "PMID 9856644 not in abstracts\n",
      "PMID 9717304 not in abstracts\n",
      "PMID 9502235 not in abstracts\n",
      "PMID 9427844 not in abstracts\n",
      "PMID 9084151 not in abstracts\n",
      "PMID 8962060 not in abstracts\n",
      "PMID 8706825 not in abstracts\n",
      "PMID 9072525 not in abstracts\n",
      "PMID 8737572 not in abstracts\n",
      "PMID 8526515 not in abstracts\n",
      "PMID 7896798 not in abstracts\n",
      "PMID 8745746 not in abstracts\n",
      "PMID 8174985 not in abstracts\n",
      "PMID 8407780 not in abstracts\n",
      "PMID 24420031 not in abstracts\n",
      "PMID 1624102 not in abstracts\n",
      "PMID 1476406 not in abstracts\n",
      "PMID 1309374 not in abstracts\n",
      "PMID 1804763 not in abstracts\n",
      "PMID 1900281 not in abstracts\n",
      "PMID 1922274 not in abstracts\n",
      "PMID 2228964 not in abstracts\n",
      "PMID 2105962 not in abstracts\n",
      "PMID 2497098 not in abstracts\n",
      "PMID 3150681 not in abstracts\n",
      "PMID 3146551 not in abstracts\n",
      "PMID 3673342 not in abstracts\n",
      "PMID 3122316 not in abstracts\n",
      "PMID 3033722 not in abstracts\n",
      "PMID 3103517 not in abstracts\n",
      "PMID 2869637 not in abstracts\n",
      "PMID 3931548 not in abstracts\n",
      "PMID 6442304 not in abstracts\n",
      "PMID 6657981 not in abstracts\n",
      "PMID 6813835 not in abstracts\n",
      "PMID 6283748 not in abstracts\n",
      "PMID 6792978 not in abstracts\n",
      "PMID 121183 not in abstracts\n",
      "PMID 154474 not in abstracts\n",
      "PMID 102713 not in abstracts\n",
      "PMID 417990 not in abstracts\n",
      "PMID 414139 not in abstracts\n",
      "PMID 339040 not in abstracts\n",
      "PMID 5001203 not in abstracts\n",
      "PMID 4330735 not in abstracts\n",
      "PMID 4970226 not in abstracts\n",
      "PMID 4964565 not in abstracts\n",
      "PMID 17768180 not in abstracts\n",
      "PMID 1210882 not in abstracts\n",
      "PMID 23927842 not in abstracts\n",
      "PMID 8188996 not in abstracts\n"
     ]
    }
   ],
   "source": [
    "for pmid in MInterData.supple_data.core_dataset['abstract_labels'].keys():\n",
    "    if str(pmid) not in MInterData.abstract.abstracts.keys():\n",
    "        print(\"PMID {} not in abstracts\".format(pmid))"
   ]
  },
  {
   "cell_type": "code",
   "execution_count": 111,
   "metadata": {
    "ExecuteTime": {
     "end_time": "2019-05-22T00:52:27.475867Z",
     "start_time": "2019-05-22T00:52:27.466684Z"
    }
   },
   "outputs": [
    {
     "data": {
      "text/plain": [
       "dict_keys(['14662931', '12656174', '9023920', '8573495', '21304652', '25804061', '23354720', '23263659', '21718151', '21454996', '19651903', '18086839', '18006282', '17692662', '16952957', '16757608', '16407668', '16405692', '16147554', '15959995', '15266908', '15264193', '12855232', '12207212', '12003982', '11952723', '11678931', '11481291', '11184173', '10396687', '9399530', '8878606', '8659081', '7824315', '1344669', '1297243', '15770029', '12485325', '11592487', '17064396', '11699590', '24217692', '21376823', '17983770', '17189093', '12714813', '23040994', '22564451', '16081932', '8182163', '25679309', '9561735', '25829629', '25657101', '25650127', '25533634', '25380795', '25362524', '25244414', '25151879', '25095898', '24962875', '24883178', '24745665', '24695892', '24485676', '24406013', '24341282', '24294233', '24250681', '24020254', '23899653', '23829297', '23810599', '23649523', '23548007', '23541206', '23187955', '23050452', '22916878', '22888666', '22790540', '22559062', '22452835', '22417438', '22350500', '22338626', '22336342', '22236005', '22157240', '22146692', '22098090', '21992955', '21967334', '21905631', '21839384', '21807435', '21787909', '21697819', '21461068', '21296446', '21244240', '21212956', '21196060', '21175792', '21175746', '21144608', '21048484', '21033428', '20822875', '20726237', '20723955', '20673062', '20659602', '20495044', '20491536', '20483186', '20436058', '20412906', '20181295', '19998380', '19838618', '19666198', '19504616', '19469473', '19411126', '19000641', '18973338', '18671775', '18665934', '18633675', '18612820', '18387426', '18355669', '18298740', '18218736', '18211357', '17992983', '17953584', '17699491', '17690340', '17530857', '17505659', '17388121', '17311971', '17263590', '17260332', '17198739', '17108865', '16943081', '16942996', '16903771', '16875752', '16786633', '16702308', '16530515', '16421858', '16213050', '16192262', '16105057', '15869967', '15836487', '15807205', '15541806', '15493732', '15486704', '15297081', '15294805', '15180351', '15135959', '14870930', '14724157', '12906045', '12868278', '12810281', '12801956', '12783652', '12657203', '12556943', '12540416', '12416799', '12209372', '12086036', '12047103', '12018416', '11961338', '11910358', '11772639', '11532105', '11295192', '11286405', '11252486', '11244182', '11201658', '11003217', '10791781', '10745279', '10736005', '10728568', '10693169', '10606148', '10563999', '10543777', '10386296', '10342225', '10212452', '10090251', '10063635', '9927000', '9839222', '9767713', '9406066', '9201571', '16887565', '9081225', '8899517', '8827459', '8596226', '8910918', '8887349', '8620186', '8554764', '8786251', '7859355', '7814704', '7814703', '8005834', '7764136', '8108275', '1957819', '1903136', '16347729', '3231712', '3144641', '3110233', '3106442', '3098812', '16347053', '2630', '24484531', '22417880', '21916371', '20860759', '19772671', '19228092', '16269128', '14986909', '12790510', '12078176', '11846195', '11495144', '11327065', '11147996', '11034118', '10711615', '9763332', '9527568', '9467394', '9151641', '8961558', '8910839', '8998988', '7853132', '7478753', '8109940', '10870474', '10870471', '26074910', '26050019', '26041453', '26004705', '25980353', '25980052', '25980051', '25980050', '25897100', '25874387', '25817352', '25797971', '25796741', '25752203', '25748553', '25748405', '25737990', '25708896', '25708671', '25700566', '25671097', '25658520', '25657770', '25641126', '25629622', '25619215', '25613692', '25607829', '25601995', '25598264', '25593914', '25583073', '25549405', '25541995', '25538458', '25532640', '25526763', '25522803', '25493949', '25483268', '25481491', '25454271', '25446794', '25403149', '25380873', '25379468', '25347329', '25340538', '25326650', '25288384', '25252405', '25237583', '25222304', '25215467', '25194532', '25183403', '25169965', '25151773', '25121014', '25108654', '25033402', '25024870', '25022303', '24969715', '24908687', '24883301', '24858647', '24844194', '24804150', '24800681', '24795516', '24793153', '24791253', '24653811', '24650326', '24649798', '24631369', '24626053', '24582578', '24558355', '24550320', '24533371', '24513484', '24511262', '24502062', '24485764', '24480063', '24479091', '24445158', '24411834', '24333981', '24315313', '24300629', '24225292', '24167843', '24140741', '24120834', '24112254', '24094502', '24083375', '24055218', '24016033', '24011498', '23979759', '23959306', '23921936', '23916453', '23890642', '23866508', '23856919', '23840569', '23838788', '23833752', '23814976', '23790332', '23786927', '23779256', '23767198', '23729883', '25780663', '23713670', '23675295', '23650928', '23587777', '23585941', '23571246', '23567301', '23540185', '23540181', '24991607', '23535208', '23519230', '23517779', '23504617', '23492948', '23484141', '23483760', '23479972', '23466338', '23458824', '23441872', '23435587', '23434036', '23410925', '23407100', '23380730', '23375042', '23357944', '23356908', '23334195', '23333745', '23332427', '23317730', '23302273', '23289990', '23287138', '24764539', '23254983', '23231389', '23210318', '23198452', '23198116', '23173294', '23147735', '23142784', '23123244', '23118301', '23074544', '23061310', '23028058', '22958880', '22949183', '24688767', '22932165', '22883249', '22869824', '22838220', '22809880', '22791086', '22783687', '22783679', '22766652', '22760797', '22751663', '22747857', '22742534', '22715175', '22692456', '22629798', '22629313', '22629135', '22577658', '22574524', '22572853', '22568256', '22540089', '22518143', '22506856', '22468090', '22455967', '22442964', '22440767', '22433882', '22428067', '22396914', '22388585', '22373191', '22341844', '22330908', '22308733', '22301485', '22295204', '22289216', '22276442', '22233438', '22232450', '22232311', '22232283', '22230331', '22221759', '22210757', '23762620', '22203598', '22192625', '22164420', '22155619', '22153762', '22146685', '22127467', '22105714', '22097813', '22087061', '22043358', '21987259', '21968538', '21944716', '21928713', '21896418', '21895747', '21880469', '21861307', '21859295', '21820107', '25214109', '21786445', '21780664', '21740488', '21732948', '21694911', '21683553', '21647315', '21633769', '21624231', '21619494', '21605476', '21577055', '21563611', '21560403', '21553480', '21553207', '21545370', '21524507', '21482572', '21504249', '21494634', '21485703', '21472130', '21466954', '21454858', '21454167', '25566609', '24031653', '21445525', '21439516', '21409533', '21402844', '21382699', '21373774', '21371961', '21369775', '21358602', '21353964', '21353958', '21343467', '21319348', '21316007', '21299688', '21298865', '21290979', '22540074', '21242062', '21195565', '23878706', '21182880', '21155141', '21126060', '21114709', '21083745', '21078009', '21055271', '21049906', '21045403', '21043474', '20976880', '20973971', '20956903', '20954094', '20952744', '20919496', '20881410', '20873734', '20858687', '20849395', '20835902', '20814127', '20805395', '20799559', '20716255', '20699510', '20687782', '20683506', '20667731', '20645834', '20616935', '20576085', '20566418', '20559241', '20525487', '20524784', '25161470', '22885318', '20503444', '20440059', '20432052', '20418799', '20389050', '20387130', '20363962', '20350426', '20238215', '20235748', '20226331', '23057307', '21808542', '20182670', '20172672', '20170378', '20138787', '24470884', '20108018', '20084912', '20083235', '20046873', '23878695', '21441088', '21441087', '20022193', '20012724', '19961043', '19882981', '19882980', '19860320', '19836184', '19833471', '19815478', '19780761', '19772545', '19765906', '19762956', '19738018', '19733459', '19716760', '19608303', '19603202', '19554400', '19553175', '19523420', '19484933', '19481308', '19426534', '19423471', '19419829', '19416094', '19364852', '19342205', '19317483', '19284398', '19282702', '19251546', '19244294', '19239442', '19191615', '19214149', '19211175', '19208881', '19191549', '19162449', '19144288', '19106757', '19108792', '19099875', '19099687', '19074399', '19069618', '19047754', '19028617', '19024645', '19024644', '19024213', '19021940', '19001682', '18974645', '18973456', '18973441', '18947473', '18939404', '18853314', '18844692', '18837224', '18835763', '18822497', '18817023', '18806900', '18799945', '18797200', '18787739', '18725436', '18709531', '18677274', '18676887', '18644325', '18622676', '18620553', '22359709', '18583328', '18561097', '18536215', '18509908', '18500257', '18481475', '20046761', '18414163', '18408781', '18399342', '18390064', '18389723', '18385000', '18378649', '21309205', '18341586', '18339283', '18329835', '18323184', '18293637', '18289463', '18285482', '18218646', '21648126', '19469274', '18162378', '18094587', '18085683', '18077902', '18075897', '18035809', '18033780', '18030989', '17985907', '17972131', '17965421', '17942305', '17938194', '17919903', '17909446', '17899958', '17826097', '17822444', '17724158', '17664841', '17612257', '22557251', '17583296', '17581146', '17575437', '17548905', '17548456', '17548024', '17545110', '17536984', '23675032', '17529909', '17515647', '17513077', '17508488', '17484763', '17474275', '17466115', '17438721', '17428930', '17414126', '17326042', '17293925', '17241703', '17209308', '17207030', '17205704', '17198010', '17191989', '17180803', '17166960', '17152758', '17131790', '17116679', '17066507', '17052392', '17052391', '17048790', '17045463', '17036170', '17020014', '17009947', '17005838', '16989308', '16949783', '16940657', '16938419', '16936293', '16930923', '16927393', '16923372', '16897531', '16841713', '16841712', '16837034', '16808979', '16801748', '16787754', '16783455', '16778466', '16777383', '16767484', '16758041', '16750858', '16722349', '16714223', '16711336', '16696387', '16678369', '16676730', '16670727', '16670645', '16638292', '16631337', '16629602', '16608792', '16602469', '16601773', '16600551', '16600543', '16572236', '16570512', '16545113', '16539298', '16525194', '16521344', '16518707', '16518554', '16516507', '16515113', '1650167"
      ]
     },
     "execution_count": 111,
     "metadata": {},
     "output_type": "execute_result"
    },
    {
     "data": {
      "text/html": [
       "<b>limit_output extension: Maximum message size of 10000 exceeded with 346890 characters</b>"
      ]
     },
     "metadata": {},
     "output_type": "display_data"
    }
   ],
   "source": [
    "MInterData.abstract.abstracts.keys()"
   ]
  },
  {
   "cell_type": "code",
   "execution_count": null,
   "metadata": {
    "collapsed": true
   },
   "outputs": [],
   "source": []
  },
  {
   "cell_type": "markdown",
   "metadata": {
    "ExecuteTime": {
     "end_time": "2019-04-23T20:08:12.890150Z",
     "start_time": "2019-04-23T20:08:12.875622Z"
    },
    "collapsed": true,
    "scrolled": true
   },
   "source": [
    "## Extended dataset `/data/train_test_data/collated_annotations`"
   ]
  },
  {
   "cell_type": "code",
   "execution_count": 23,
   "metadata": {
    "ExecuteTime": {
     "end_time": "2019-05-13T01:32:42.206686Z",
     "start_time": "2019-05-13T01:31:45.288037Z"
    }
   },
   "outputs": [
    {
     "name": "stdout",
     "output_type": "stream",
     "text": [
      "\u001b[1m\u001b[94mSurvey the .sp files under subfolders\u001b[0m\n",
      "set_1: number of .sp files: 155\n",
      "set_2: number of .sp files: 150\n",
      "set_3: number of .sp files: 153\n",
      "set_4: number of .sp files: 135\n",
      "set_5: number of .sp files: 153\n",
      "\u001b[1m\u001b[94mTotal number of .sp files: 746\u001b[0m\n",
      "\u001b[1m\u001b[94m16 bacteria pairs found redundent in different sets:\u001b[0m\n",
      "[('Anaerococcus tetradius', 'Salmonella enterica'),\n",
      " ('Atopobium vaginae', 'Bacteroides fragilis'),\n",
      " ('Bacteroides caccae', 'Faecalibacterium prausnitzii'),\n",
      " ('Bacteroides uniformis', 'Bacteroides coprocola'),\n",
      " ('Finegoldia magna', 'Clostridiales bacterium'),\n",
      " ('Lachnospiraceae bacterium', 'Streptococcus anginosus'),\n",
      " ('Lactobacillus amylovorus', 'Lactobacillus casei'),\n",
      " ('Paracoccus denitrificans', 'Salmonella enterica'),\n",
      " ('Ruminococcus flavefaciens', 'Fusobacterium gonidiaformans'),\n",
      " ('Salmonella enterica', 'Paracoccus denitrificans'),\n",
      " ('Staphylococcus aureus', 'Desulfovibrio desulfuricans'),\n",
      " ('Streptococcus cristatus', 'Capnocytophaga gingivalis'),\n",
      " ('Streptococcus infantis', 'Fusobacterium nucleatum'),\n",
      " ('Streptococcus oralis', 'Haemophilus influenzae'),\n",
      " ('Yersinia enterocolitica', 'Fusobacterium varium'),\n",
      " ('Zymomonas mobilis', 'Propionibacterium freudenreichii')]\n",
      "\u001b[1m\u001b[94mNumber of abstract with different PMID:\u001b[0m\n",
      "Number of abstracts with differetn PMID: 29948\n"
     ]
    }
   ],
   "source": [
    "import util\n",
    "from pprint import pprint\n",
    "print(util.color.BOLD + util.color.BLUE + \\\n",
    "'Survey the .sp files under subfolders' + util.color.END)\n",
    "\n",
    "import glob\n",
    "collated_data_root = '/home/yuning/Work/cs-273/reference/atminter/data/train_test_data/collated_annotations/'\n",
    "sample_set = []\n",
    "pair_abstract_set = {}\n",
    "spFile_counter = 0\n",
    "redundent = []\n",
    "\n",
    "for set_num in [1, 2, 3, 4, 5]:\n",
    "    files = glob.glob(collated_data_root + 'set_{}/*.sp'.format(set_num))\n",
    "    print(\"set_{}: number of .sp files: {}\".format(set_num, len(files)))\n",
    "    spFile_counter += len(files)\n",
    "    for file in files:\n",
    "        sp_file = spFile(spFilePath=file)\n",
    "        if tuple(sp_file.species_names) in pair_abstract_set.keys() or tuple((sp_file.species_names[1], sp_file.species_names[0])) in pair_abstract_set.keys():\n",
    "            redundent.append(tuple(sp_file.species_names))\n",
    "            pair_abstract_set[tuple((sp_file.species_names[0], sp_file.species_names[1], 1))] = sp_file\n",
    "        else:\n",
    "            pair_abstract_set[tuple(sp_file.species_names)] = sp_file\n",
    "print(util.color.BOLD + util.color.BLUE + \\\n",
    "'Total number of .sp files: {}'.format(spFile_counter) + util.color.END)\n",
    "\n",
    "print(util.color.BOLD + util.color.BLUE + \\\n",
    "'{} bacteria pairs found redundent in different sets:'.format(len(redundent)) + util.color.END)\n",
    "pprint(sorted(redundent))\n",
    "\n",
    "print(util.color.BOLD + util.color.BLUE + \\\n",
    "'Number of abstract with different PMID:' + util.color.END)\n",
    "papers_PMID_set = set()\n",
    "for sp_file in pair_abstract_set.values():\n",
    "    papers_PMID_set.update([paper['PMID'] for paper in sp_file.papers])\n",
    "\n",
    "print('Number of abstracts with differetn PMID: {}'.format(len(papers_PMID_set)))"
   ]
  },
  {
   "cell_type": "code",
   "execution_count": 24,
   "metadata": {
    "ExecuteTime": {
     "end_time": "2019-05-13T01:33:28.296206Z",
     "start_time": "2019-05-13T01:33:28.288762Z"
    }
   },
   "outputs": [
    {
     "data": {
      "text/plain": [
       "[('Anaerococcus tetradius', 'Salmonella enterica'), ('Atopobium vaginae', 'Bacteroides fragilis'), ('Bacteroides caccae', 'Faecalibacterium prausnitzii'), ('Bacteroides uniformis', 'Bacteroides coprocola'), ('Finegoldia magna', 'Clostridiales bacterium'), ('Lachnospiraceae bacterium', 'Streptococcus anginosus'), ('Lactobacillus amylovorus', 'Lactobacillus casei'), ('Paracoccus denitrificans', 'Salmonella enterica'), ('Ruminococcus flavefaciens', 'Fusobacterium gonidiaformans'), ('Salmonella enterica', 'Paracoccus denitrificans'), ('Staphylococcus aureus', 'Desulfovibrio desulfuricans'), ('Streptococcus cristatus', 'Capnocytophaga gingivalis'), ('Streptococcus infantis', 'Fusobacterium nucleatum'), ('Streptococcus oralis', 'Haemophilus influenzae'), ('Yersinia enterocolitica', 'Fusobacterium varium'), ('Zymomonas mobilis', 'Propionibacterium freudenreichii')]"
      ]
     },
     "execution_count": 24,
     "metadata": {},
     "output_type": "execute_result"
    }
   ],
   "source": [
    "sorted(redundent)"
   ]
  },
  {
   "cell_type": "code",
   "execution_count": 101,
   "metadata": {
    "ExecuteTime": {
     "end_time": "2019-04-23T21:45:46.968696Z",
     "start_time": "2019-04-23T21:45:46.942091Z"
    },
    "scrolled": true
   },
   "outputs": [
    {
     "name": "stdout",
     "output_type": "stream",
     "text": [
      "Number of abstracts with differetn PMID: 29948\n"
     ]
    }
   ],
   "source": []
  },
  {
   "cell_type": "code",
   "execution_count": 131,
   "metadata": {
    "ExecuteTime": {
     "end_time": "2019-04-24T02:14:29.746522Z",
     "start_time": "2019-04-24T02:14:29.741084Z"
    }
   },
   "outputs": [
    {
     "data": {
      "text/plain": [
       "[{'AB  ': 'the objective of this study was to characterize the subgingival microbiota of african-american children with localized aggressive periodontitis (lap). fifty-one children were included. subgingival plaque samples were taken from diseased (dd) and healthy sites (dh) in lap and from healthy sites in hs and hc and analyzed by 16s rrna-based microarrays. aggregatibacter actinomycetemcomitans (aa) was the only species found to be both more prevalent (or = 8.3, p = 0.0025)  and abundant (p < 0.01) in dd. filifactor alocis (fa) was also found to be more prevalent in dd (or 2.31, ci 1.06-5.01, p = 0.03). most prevalent species in healthy sites were selenomonas spp, veillonella spp, streptococcus spp, bergeyella sp, and kingella oralis. overall, streptococcus spp, campylobacter gracilis, capnocytophaga granulosa, haemophilus parainfluenzae, and lautropia mirabilis were most abundant in healthy children, while aa, fa, tannerella sp, solobacterium moorei, parvimonas micra, and capnocytophaga sp were most abundant  in lap. based on a comprehensive analysis with 16s rrna-based microarrays, aa was strongly associated and site-specific in lap. in contrast, other species were found to be associated with healthy sites and individuals (clinicaltrials.gov number ct01330719). abbreviations: healthy site in healthy sibling (hs); healthy  site in healthy control child (hc).',\n",
       "  'ABHT': '',\n",
       "  'PMID': '22863892',\n",
       "  'TI  ': 'microbiological characterization in children with aggressive periodontitis.',\n",
       "  'TIHT': ''},\n",
       " {'AB  ': 'background: this study compares the changes to the subgingival microbiota of individuals with \"refractory\" periodontitis (rp) or treatable periodontitis (good responders [gr]) before and after periodontal therapy by using the human oral microbe identification microarray (homim) analysis. methods: individuals with chronic periodontitis were classified as rp (n = 17) based on mean attachment loss (al) and/or >3 sites with al >/=2.5 mm after scaling and root planing, surgery, and systemically administered amoxicillin and metronidazole or as gr (n  = 30) based on mean attachment gain and no sites with al >/=2.5 mm after treatment. subgingival plaque samples were taken at baseline and 15 months after  treatment and analyzed for the presence of 300 species by homim analysis. significant differences in taxa before and post-therapy were sought using the wilcoxon test. results: the majority of species evaluated decreased in prevalence in both groups after treatment; however, only a small subset of organisms was significantly affected. species that increased or persisted in high frequency in  rp but were significantly reduced in gr included bacteroidetes sp., porphyromonas endodontalis, porphyromonas gingivalis, prevotella spp., tannerella forsythia, dialister spp., selenomonas spp., catonella morbi, eubacterium spp., filifactor alocis, parvimonas micra, peptostreptococcus sp. ot113, fusobacterium sp. ot203,  pseudoramibacter alactolyticus, streptococcus intermedius or streptococcus constellatus, and shuttlesworthia satelles. in contrast, capnocytophaga sputigena, cardiobacterium hominis, gemella haemolysans, haemophilus parainfluenzae, kingella oralis, lautropia mirabilis, neisseria elongata, rothia  dentocariosa, streptococcus australis, and veillonella spp. were more associated  with therapeutic success. conclusion: persistence of putative and novel periodontal pathogens, as well as low prevalence of beneficial species was associated with chronic refractory periodontitis.',\n",
       "  'ABHT': '',\n",
       "  'PMID': '22324467',\n",
       "  'TI  ': 'impact of periodontal therapy on the subgingival microbiota of severe periodontitis: comparison between good responders and individuals with refractory periodontitis using the human oral microbe identification microarray.',\n",
       "  'TIHT': ''},\n",
       " {'AB  ': 'it has become increasingly recognized that groups of microorganisms interact within the subgingival plaque of adult subjects with periodontitis. it is much less clear, however, whether the consortia of microorganisms associated with periodontitis are different in early and more advanced cases of periodontitis. to investigate this point further, subgingival plaque was collected from six sites in 87 adolescents with periodontitis and 73 controls and the samples were analyzed for the detection of 18 microbial species using the dna-dna hybridization technique. actinomyces oris accounted for the highest proportion of the flora and was more predominant among controls. prevotella nigrescens, prevotella intermedia, porphyromonas gingivalis, and tannerella forsythia were present at higher levels among the subjects with periodontitis. factor analyses identified one factor characterized by highly positive loadings for t. forsythia, campylobacter rectus, p. gingivalis, p. intermedia, p. nigrescens, parvimonas micra, and treponema denticola, and another factor characterized by highly positive loadings of a. oris, capnocytophaga ochracea, eikenella corrodens, streptococcus intermedius, selenomonas noxia, streptococcus oralis, streptococcus sanguinis, and veillonella parvula. aggregatibacter actinomycetemcomitans and streptococcus mutans did not load on any of the two factors, while fusobacterium  nucleatum loaded on both. these findings confirm the occurrence of clustering of  subgingival bacteria according to case status also among young individuals.',\n",
       "  'ABHT': '',\n",
       "  'PMID': '21410554',\n",
       "  'TI  ': 'clustering of subgingival microbial species in adolescents with periodontitis.',\n",
       "  'TIHT': ''},\n",
       " {'AB  ': 'introduction: knowledge of the early oral colonization patterns could provide a better understanding of oral biofilm development and disease initiation that in turn could be the basis for early preventive programmes. methods: microbial samples were collected from five different oral habitats from a total of 93 children (age 3-12 years), attending the dental school of the university of athens, who were split into three age groups. a total of 38 microbial species were sought out by the checkerboard dna-dna hybridization technique. results: all of the test species, except parvimonas micra and porphyromonas gingivalis, differed significantly among sample locations providing quite distinct microbial  profiles for the different oral surfaces. supragingival and subgingival plaque had similar profiles and exhibited higher proportions of actinomyces species and  green complex while soft tissue samples were dominated by streptococci of the yellow complex. the profiles of the tongue dorsum and saliva were also similar. many of the species were in similar proportions in all three age groups for a given location. periodontal pathogens showed increases in proportions with increasing age. specifically, the red complex species (tannerella forsythia, p. gingivalis, treponema denticola) showed a significant increase in proportion with age (p < 0.05) in all sample locations. conclusions: the results showed a pattern of colonization in children similar to that previously found in adults. differences in the profile between age groups suggest a gradual maturation of the oral microbiota, with it being made up of an increasing number of orange and red  complex species.',\n",
       "  'ABHT': '',\n",
       "  'PMID': '19416446',\n",
       "  'TI  ': 'the microbiota on different oral surfaces in healthy children.',\n",
       "  'TIHT': ''},\n",
       " {'AB  ': 'background: we investigated clinical and subgingival microbiologic changes during pregnancy in 20 consecutive pregnant women > or =18 years not receiving dental care. methods: bacterial samples from weeks 12, 28, and 36 of pregnancy and at 4  to 6 weeks postpartum were processed for 37 species by checkerboard dna-dna hybridization. clinical periodontal data were collected at week 12 and at 4 to 6  weeks postpartum, and bleeding on probing (bop) was recorded at sites sampled at  the four time points. results: the mean bop at week 12 and postpartum was 40.1% +/- 18.2% and 27.4% +/- 12.5%, respectively. the corresponding mean bop at microbiologic test sites was 15% (week 12) and 21% (postpartum; not statistically significant). total bacterial counts decreased between week 12 and postpartum (p  <0.01). increased bacterial counts over time were found for neisseria mucosa (p <0.001). lower counts (p <0.001) were found for capnocytophaga ochracea, capnocytophaga sputigena, eubacterium saburreum, fusobacterium nucleatum naviforme, fusobacterium nucleatum polymorphum, leptotrichia buccalis, parvimonas micra (previously peptostreptococcus micros or micromonas micros), prevotella intermedia, prevotella melaninogenica, staphylococcus aureus, streptococcus anginosus, streptococcus intermedius, streptococcus mutans, streptococcus oralis, streptococcus sanguinis, selenomonas noxia, and veillonella parvula. no changes occurred between weeks 12 and 28 of pregnancy. counts of aggregatibacter actinomycetemcomitans (previously actinobacillus actinomycetemcomitans), porphyromonas gingivalis, tannerella forsythia (previously t. forsythensis), and  treponema denticola did not change. counts of p. gingivalis and t. forsythia at week 12 were associated with gingivitis (p <0.001). conclusions: subgingival levels of bacteria associated with periodontitis did not change. p. gingivalis and t. forsythia counts were associated with bop at week 12. a decrease was found in 17 of 37 species from week 12 to postpartum. only counts of n. mucosa increased.',\n",
       "  'ABHT': '',\n",
       "  'PMID': '19228092',\n",
       "  'TI  ': 'does pregnancy have an impact on the subgingival microbiota?',\n",
       "  'TIHT': ''}]"
      ]
     },
     "execution_count": 131,
     "metadata": {},
     "output_type": "execute_result"
    }
   ],
   "source": [
    "sp_file.papers"
   ]
  },
  {
   "cell_type": "code",
   "execution_count": 32,
   "metadata": {
    "ExecuteTime": {
     "end_time": "2019-04-23T20:40:09.443413Z",
     "start_time": "2019-04-23T20:40:09.435236Z"
    }
   },
   "outputs": [
    {
     "data": {
      "text/plain": [
       "['Lactobacillus crispatus', 'Gardnerella vaginalis']"
      ]
     },
     "execution_count": 32,
     "metadata": {},
     "output_type": "execute_result"
    }
   ],
   "source": [
    "sp_file.species_names"
   ]
  },
  {
   "cell_type": "code",
   "execution_count": 51,
   "metadata": {
    "ExecuteTime": {
     "end_time": "2019-04-23T20:55:38.316449Z",
     "start_time": "2019-04-23T20:53:07.471014Z"
    }
   },
   "outputs": [
    {
     "name": "stdout",
     "output_type": "stream",
     "text": [
      "set_1: number of .sp files: 155\n",
      "set_2: number of .sp files: 150\n",
      "set_3: number of .sp files: 153\n",
      "set_4: number of .sp files: 135\n",
      "set_5: number of .sp files: 153\n"
     ]
    }
   ],
   "source": []
  },
  {
   "cell_type": "code",
   "execution_count": 64,
   "metadata": {
    "ExecuteTime": {
     "end_time": "2019-04-23T21:00:40.341858Z",
     "start_time": "2019-04-23T21:00:40.337758Z"
    },
    "collapsed": true
   },
   "outputs": [],
   "source": [
    "all_pairs = []\n",
    "for sample in sample_set:\n",
    "    sample['pairs'] = [tuple(pair) for pair in sample['pairs']]\n",
    "    all_pairs += sample['pairs']"
   ]
  },
  {
   "cell_type": "code",
   "execution_count": 73,
   "metadata": {
    "ExecuteTime": {
     "end_time": "2019-04-23T21:10:05.339455Z",
     "start_time": "2019-04-23T21:10:05.287021Z"
    }
   },
   "outputs": [
    {
     "name": "stdout",
     "output_type": "stream",
     "text": [
      "[(('Streptococcus cristatus', 'Capnocytophaga gingivalis'),\n",
      "  [True, True, False, False, False]),\n",
      " (('Staphylococcus aureus', 'Desulfovibrio desulfuricans'),\n",
      "  [True, False, True, False, False]),\n",
      " (('Bacteroides caccae', 'Faecalibacterium prausnitzii'),\n",
      "  [False, True, False, True, False]),\n",
      " (('Bacteroides uniformis', 'Bacteroides coprocola'),\n",
      "  [False, False, True, True, False]),\n",
      " (('Streptococcus oralis', 'Haemophilus influenzae'),\n",
      "  [False, False, True, True, False]),\n",
      " (('Ruminococcus flavefaciens', 'Fusobacterium gonidiaformans'),\n",
      "  [True, True, False, False, False]),\n",
      " (('Zymomonas mobilis', 'Propionibacterium freudenreichii'),\n",
      "  [True, False, True, False, False]),\n",
      " (('Lactobacillus amylovorus', 'Lactobacillus casei'),\n",
      "  [False, True, True, False, False]),\n",
      " (('Yersinia enterocolitica', 'Fusobacterium varium'),\n",
      "  [False, False, True, True, False]),\n",
      " (('Atopobium vaginae', 'Bacteroides fragilis'),\n",
      "  [True, False, True, False, False]),\n",
      " (('Paracoccus denitrificans', 'Salmonella enterica'),\n",
      "  [False, True, False, True, False])]\n"
     ]
    }
   ],
   "source": [
    "import numpy as np\n",
    "import pprint\n",
    "\n",
    "repeat_pairs = [(pair,[pair in sample['pairs'] for sample in sample_set]) for pair in set(all_pairs)\n",
    "                if np.sum([pair in sample['pairs'] for sample in sample_set]) > 1]\n",
    "pprint.pprint(repeat_pairs)"
   ]
  },
  {
   "cell_type": "code",
   "execution_count": 82,
   "metadata": {
    "ExecuteTime": {
     "end_time": "2019-04-23T21:14:57.031494Z",
     "start_time": "2019-04-23T21:14:57.028663Z"
    },
    "collapsed": true
   },
   "outputs": [],
   "source": [
    "file_1 = collated_data_root + 'set_3/Yersinia_enterocolitica#Fusobacterium_varium.sp'\n",
    "file_2 = collated_data_root + 'set_4/Yersinia_enterocolitica#Fusobacterium_varium.sp'\n",
    "\n",
    "spFile_1 = spFile(spFilePath=file_1)\n",
    "spFile_2 = spFile(spFilePath=file_2)"
   ]
  },
  {
   "cell_type": "code",
   "execution_count": 83,
   "metadata": {
    "ExecuteTime": {
     "end_time": "2019-04-23T21:14:58.573501Z",
     "start_time": "2019-04-23T21:14:58.568543Z"
    }
   },
   "outputs": [
    {
     "name": "stdout",
     "output_type": "stream",
     "text": [
      "['2875188']\n",
      "['2875188']\n"
     ]
    }
   ],
   "source": [
    "pprint.pprint([paper['PMID'] for paper in spFile_1.papers])\n",
    "pprint.pprint([paper['PMID'] for paper in spFile_2.papers])"
   ]
  }
 ],
 "metadata": {
  "celltoolbar": "Initialization Cell",
  "kernelspec": {
   "display_name": "Python [conda env:anaconda3-5.0.1]",
   "language": "python",
   "name": "conda-env-anaconda3-5.0.1-py"
  },
  "language_info": {
   "codemirror_mode": {
    "name": "ipython",
    "version": 3
   },
   "file_extension": ".py",
   "mimetype": "text/x-python",
   "name": "python",
   "nbconvert_exporter": "python",
   "pygments_lexer": "ipython3",
   "version": "3.6.3"
  },
  "toc": {
   "nav_menu": {},
   "number_sections": true,
   "sideBar": true,
   "skip_h1_title": false,
   "toc_cell": false,
   "toc_position": {
    "height": "842px",
    "left": "0px",
    "right": "1404px",
    "top": "106px",
    "width": "169px"
   },
   "toc_section_display": "block",
   "toc_window_display": true
  }
 },
 "nbformat": 4,
 "nbformat_minor": 2
}
