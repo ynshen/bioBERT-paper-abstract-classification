{
 "cells": [
  {
   "cell_type": "code",
   "execution_count": 2,
   "metadata": {
    "ExecuteTime": {
     "end_time": "2019-05-12T23:51:13.103669Z",
     "start_time": "2019-05-12T23:51:13.094822Z"
    },
    "collapsed": true,
    "init_cell": true
   },
   "outputs": [],
   "source": [
    "import pandas as pd\n",
    "import numpy as np\n",
    "import os\n",
    "import glob\n",
    "from reference.atminter.lib.modules.paperparse import spFile"
   ]
  },
  {
   "cell_type": "markdown",
   "metadata": {},
   "source": [
    "# Align and check dataset from @MInter\n",
    "## Info reported in supplementary files"
   ]
  },
  {
   "cell_type": "code",
   "execution_count": 124,
   "metadata": {
    "ExecuteTime": {
     "end_time": "2019-04-24T01:28:10.284401Z",
     "start_time": "2019-04-24T01:28:10.150295Z"
    }
   },
   "outputs": [
    {
     "name": "stdout",
     "output_type": "stream",
     "text": [
      "Core dataset:\tCore pair:('lactobacillus acidophilus', 'escherichia coli')\n",
      "\t\tAbstract number:350\n",
      "\t\tInteraction:79\n",
      "Ext. dataset:\tInteraction pairs(may contain duplicates):62\n",
      "\t\tLabeled abstracts:3567\n"
     ]
    }
   ],
   "source": [
    "# Core dataset\n",
    "core_dataset = {\n",
    "    'core_pair': ('lactobacillus acidophilus', 'escherichia coli')\n",
    "}\n",
    "xl = pd.ExcelFile('/home/yuning/Work/cs_273/reference/atminter/supplement_info/Supplementary_file_1_Core_Dataset_PMIDs.xlsx')\n",
    "core_dataset['abstract_labels'] = xl.parse(xl.sheet_names[0])\n",
    "\n",
    "print(\"Core dataset:\\tCore pair:{}\\n\\t\\tAbstract number:{}\\n\\t\\tw/ interaction:{}\".format(\n",
    "    core_dataset['core_pair'],\n",
    "    len(core_dataset['abstract_labels']),\n",
    "    np.sum(core_dataset['abstract_labels']['Interaction'])\n",
    "))\n",
    "\n",
    "# Extended dataset\n",
    "ext_dataset = {}\n",
    "xl = pd.ExcelFile('/home/yuning/Work/cs_273/reference/atminter/supplement_info/Supplementary_file_2_Extended_Dataset_Interactions.xlsx')\n",
    "ext_dataset['interaction_labels'] = xl.parse(xl.sheet_names[0])\n",
    "\n",
    "xl = pd.ExcelFile('/home/yuning/Work/cs_273/reference/atminter/supplement_info/Supplementary_file_3_Extended_Dataset_PMIDs.xlsx')\n",
    "ext_dataset['abstract_labels'] = xl.parse(xl.sheet_names[0])\n",
    "\n",
    "print('Ext. dataset:\\tInteraction pairs(may contain duplicates):{}\\n\\t\\tLabeled abstracts:{}'.format(\n",
    "    len(ext_dataset['interaction_labels']),\n",
    "    len(ext_dataset['abstract_labels'])\n",
    "))\n",
    "\n",
    "# pattern scan\n",
    "xl = pd.ExcelFile('/home/yuning/Work/cs_273/reference/atminter/supplement_info/Supplementary_file_4_Patterns_and_Terms.xlsx')\n",
    "scan_patterns = xl.parse(xl.sheet_names[0])\n",
    "scan_patterns\n",
    "\n",
    "# skin data set\n",
    "skin_dataset = {}\n",
    "xl = pd.ExcelFile('/home/yuning/Work/cs_273/reference/atminter/supplement_info/Supplementary_file_5_List_of_Skin_Bacteria.xlsx')\n",
    "skin_dataset['species'] = xl.parse(xl.sheet_names[0])\n",
    "xl = pd.ExcelFile('/home/yuning/Work/cs_273/reference/atminter/supplement_info/Supplementary_file_6_Curated_Interactions_between_Skin_Bacteria.xlsx')\n",
    "skin_dataset['curated_interaction'] = xl.parse(xl.sheet_names[0])"
   ]
  },
  {
   "cell_type": "code",
   "execution_count": 130,
   "metadata": {
    "ExecuteTime": {
     "end_time": "2019-04-24T02:09:21.897116Z",
     "start_time": "2019-04-24T02:09:21.887657Z"
    }
   },
   "outputs": [
    {
     "data": {
      "text/plain": [
       "3405"
      ]
     },
     "execution_count": 130,
     "metadata": {},
     "output_type": "execute_result"
    }
   ],
   "source": [
    "np.sum(ext_dataset['abstract_labels']['Interaction'] == 0)"
   ]
  },
  {
   "cell_type": "code",
   "execution_count": 123,
   "metadata": {
    "ExecuteTime": {
     "end_time": "2019-04-24T01:27:20.591768Z",
     "start_time": "2019-04-24T01:27:20.586903Z"
    }
   },
   "outputs": [
    {
     "data": {
      "text/plain": [
       "79"
      ]
     },
     "execution_count": 123,
     "metadata": {},
     "output_type": "execute_result"
    }
   ],
   "source": []
  },
  {
   "cell_type": "code",
   "execution_count": null,
   "metadata": {
    "collapsed": true
   },
   "outputs": [],
   "source": []
  },
  {
   "cell_type": "code",
   "execution_count": null,
   "metadata": {
    "collapsed": true
   },
   "outputs": [],
   "source": []
  },
  {
   "cell_type": "markdown",
   "metadata": {
    "ExecuteTime": {
     "end_time": "2019-04-23T20:08:12.890150Z",
     "start_time": "2019-04-23T20:08:12.875622Z"
    },
    "collapsed": true,
    "scrolled": true
   },
   "source": [
    "## Info from Extended dataset ```/data/train_test_data/collated_annotations```"
   ]
  },
  {
   "cell_type": "code",
   "execution_count": 85,
   "metadata": {
    "ExecuteTime": {
     "end_time": "2019-04-23T21:24:09.457033Z",
     "start_time": "2019-04-23T21:23:11.786947Z"
    }
   },
   "outputs": [
    {
     "name": "stdout",
     "output_type": "stream",
     "text": [
      "set_1: number of .sp files: 155\n",
      "set_2: number of .sp files: 150\n",
      "set_3: number of .sp files: 153\n",
      "set_4: number of .sp files: 135\n",
      "set_5: number of .sp files: 153\n"
     ]
    }
   ],
   "source": [
    "import glob\n",
    "\n",
    "collated_data_root = '/home/yuning/Work/cs_273/reference/atminter/data/train_test_data/collated_annotations/'\n",
    "sample_set = []\n",
    "pair_abstract_set = {}\n",
    "for set_num in [1, 2, 3, 4, 5]:\n",
    "    files = glob.glob(collated_data_root + 'set_{}/*.sp'.format(set_num))\n",
    "    print(\"set_{}: number of .sp files: {}\".format(set_num, len(files)))\n",
    "    for file in files:\n",
    "        sp_file = spFile(spFilePath=file)\n",
    "        pair_abstract_set[tuple(sp_file.species_names)] = sp_file"
   ]
  },
  {
   "cell_type": "code",
   "execution_count": 90,
   "metadata": {
    "ExecuteTime": {
     "end_time": "2019-04-23T21:25:16.355087Z",
     "start_time": "2019-04-23T21:25:16.348602Z"
    }
   },
   "outputs": [
    {
     "name": "stdout",
     "output_type": "stream",
     "text": [
      "Number of pair files: 735\n"
     ]
    }
   ],
   "source": [
    "print('Number of pair files: {}'.format(len(pair_abstract_set)))"
   ]
  },
  {
   "cell_type": "code",
   "execution_count": 101,
   "metadata": {
    "ExecuteTime": {
     "end_time": "2019-04-23T21:45:46.968696Z",
     "start_time": "2019-04-23T21:45:46.942091Z"
    },
    "scrolled": true
   },
   "outputs": [
    {
     "name": "stdout",
     "output_type": "stream",
     "text": [
      "Number of abstracts with differetn PMID: 29948\n"
     ]
    }
   ],
   "source": [
    "papers_PMID_set = set()\n",
    "for sp_file in pair_abstract_set.values():\n",
    "    papers_PMID_set.update([paper['PMID'] for paper in sp_file.papers])\n",
    "print('Number of abstracts with differetn PMID: {}'.format(len(papers_PMID_set)))"
   ]
  },
  {
   "cell_type": "code",
   "execution_count": 131,
   "metadata": {
    "ExecuteTime": {
     "end_time": "2019-04-24T02:14:29.746522Z",
     "start_time": "2019-04-24T02:14:29.741084Z"
    }
   },
   "outputs": [
    {
     "data": {
      "text/plain": [
       "[{'AB  ': 'the objective of this study was to characterize the subgingival microbiota of african-american children with localized aggressive periodontitis (lap). fifty-one children were included. subgingival plaque samples were taken from diseased (dd) and healthy sites (dh) in lap and from healthy sites in hs and hc and analyzed by 16s rrna-based microarrays. aggregatibacter actinomycetemcomitans (aa) was the only species found to be both more prevalent (or = 8.3, p = 0.0025)  and abundant (p < 0.01) in dd. filifactor alocis (fa) was also found to be more prevalent in dd (or 2.31, ci 1.06-5.01, p = 0.03). most prevalent species in healthy sites were selenomonas spp, veillonella spp, streptococcus spp, bergeyella sp, and kingella oralis. overall, streptococcus spp, campylobacter gracilis, capnocytophaga granulosa, haemophilus parainfluenzae, and lautropia mirabilis were most abundant in healthy children, while aa, fa, tannerella sp, solobacterium moorei, parvimonas micra, and capnocytophaga sp were most abundant  in lap. based on a comprehensive analysis with 16s rrna-based microarrays, aa was strongly associated and site-specific in lap. in contrast, other species were found to be associated with healthy sites and individuals (clinicaltrials.gov number ct01330719). abbreviations: healthy site in healthy sibling (hs); healthy  site in healthy control child (hc).',\n",
       "  'ABHT': '',\n",
       "  'PMID': '22863892',\n",
       "  'TI  ': 'microbiological characterization in children with aggressive periodontitis.',\n",
       "  'TIHT': ''},\n",
       " {'AB  ': 'background: this study compares the changes to the subgingival microbiota of individuals with \"refractory\" periodontitis (rp) or treatable periodontitis (good responders [gr]) before and after periodontal therapy by using the human oral microbe identification microarray (homim) analysis. methods: individuals with chronic periodontitis were classified as rp (n = 17) based on mean attachment loss (al) and/or >3 sites with al >/=2.5 mm after scaling and root planing, surgery, and systemically administered amoxicillin and metronidazole or as gr (n  = 30) based on mean attachment gain and no sites with al >/=2.5 mm after treatment. subgingival plaque samples were taken at baseline and 15 months after  treatment and analyzed for the presence of 300 species by homim analysis. significant differences in taxa before and post-therapy were sought using the wilcoxon test. results: the majority of species evaluated decreased in prevalence in both groups after treatment; however, only a small subset of organisms was significantly affected. species that increased or persisted in high frequency in  rp but were significantly reduced in gr included bacteroidetes sp., porphyromonas endodontalis, porphyromonas gingivalis, prevotella spp., tannerella forsythia, dialister spp., selenomonas spp., catonella morbi, eubacterium spp., filifactor alocis, parvimonas micra, peptostreptococcus sp. ot113, fusobacterium sp. ot203,  pseudoramibacter alactolyticus, streptococcus intermedius or streptococcus constellatus, and shuttlesworthia satelles. in contrast, capnocytophaga sputigena, cardiobacterium hominis, gemella haemolysans, haemophilus parainfluenzae, kingella oralis, lautropia mirabilis, neisseria elongata, rothia  dentocariosa, streptococcus australis, and veillonella spp. were more associated  with therapeutic success. conclusion: persistence of putative and novel periodontal pathogens, as well as low prevalence of beneficial species was associated with chronic refractory periodontitis.',\n",
       "  'ABHT': '',\n",
       "  'PMID': '22324467',\n",
       "  'TI  ': 'impact of periodontal therapy on the subgingival microbiota of severe periodontitis: comparison between good responders and individuals with refractory periodontitis using the human oral microbe identification microarray.',\n",
       "  'TIHT': ''},\n",
       " {'AB  ': 'it has become increasingly recognized that groups of microorganisms interact within the subgingival plaque of adult subjects with periodontitis. it is much less clear, however, whether the consortia of microorganisms associated with periodontitis are different in early and more advanced cases of periodontitis. to investigate this point further, subgingival plaque was collected from six sites in 87 adolescents with periodontitis and 73 controls and the samples were analyzed for the detection of 18 microbial species using the dna-dna hybridization technique. actinomyces oris accounted for the highest proportion of the flora and was more predominant among controls. prevotella nigrescens, prevotella intermedia, porphyromonas gingivalis, and tannerella forsythia were present at higher levels among the subjects with periodontitis. factor analyses identified one factor characterized by highly positive loadings for t. forsythia, campylobacter rectus, p. gingivalis, p. intermedia, p. nigrescens, parvimonas micra, and treponema denticola, and another factor characterized by highly positive loadings of a. oris, capnocytophaga ochracea, eikenella corrodens, streptococcus intermedius, selenomonas noxia, streptococcus oralis, streptococcus sanguinis, and veillonella parvula. aggregatibacter actinomycetemcomitans and streptococcus mutans did not load on any of the two factors, while fusobacterium  nucleatum loaded on both. these findings confirm the occurrence of clustering of  subgingival bacteria according to case status also among young individuals.',\n",
       "  'ABHT': '',\n",
       "  'PMID': '21410554',\n",
       "  'TI  ': 'clustering of subgingival microbial species in adolescents with periodontitis.',\n",
       "  'TIHT': ''},\n",
       " {'AB  ': 'introduction: knowledge of the early oral colonization patterns could provide a better understanding of oral biofilm development and disease initiation that in turn could be the basis for early preventive programmes. methods: microbial samples were collected from five different oral habitats from a total of 93 children (age 3-12 years), attending the dental school of the university of athens, who were split into three age groups. a total of 38 microbial species were sought out by the checkerboard dna-dna hybridization technique. results: all of the test species, except parvimonas micra and porphyromonas gingivalis, differed significantly among sample locations providing quite distinct microbial  profiles for the different oral surfaces. supragingival and subgingival plaque had similar profiles and exhibited higher proportions of actinomyces species and  green complex while soft tissue samples were dominated by streptococci of the yellow complex. the profiles of the tongue dorsum and saliva were also similar. many of the species were in similar proportions in all three age groups for a given location. periodontal pathogens showed increases in proportions with increasing age. specifically, the red complex species (tannerella forsythia, p. gingivalis, treponema denticola) showed a significant increase in proportion with age (p < 0.05) in all sample locations. conclusions: the results showed a pattern of colonization in children similar to that previously found in adults. differences in the profile between age groups suggest a gradual maturation of the oral microbiota, with it being made up of an increasing number of orange and red  complex species.',\n",
       "  'ABHT': '',\n",
       "  'PMID': '19416446',\n",
       "  'TI  ': 'the microbiota on different oral surfaces in healthy children.',\n",
       "  'TIHT': ''},\n",
       " {'AB  ': 'background: we investigated clinical and subgingival microbiologic changes during pregnancy in 20 consecutive pregnant women > or =18 years not receiving dental care. methods: bacterial samples from weeks 12, 28, and 36 of pregnancy and at 4  to 6 weeks postpartum were processed for 37 species by checkerboard dna-dna hybridization. clinical periodontal data were collected at week 12 and at 4 to 6  weeks postpartum, and bleeding on probing (bop) was recorded at sites sampled at  the four time points. results: the mean bop at week 12 and postpartum was 40.1% +/- 18.2% and 27.4% +/- 12.5%, respectively. the corresponding mean bop at microbiologic test sites was 15% (week 12) and 21% (postpartum; not statistically significant). total bacterial counts decreased between week 12 and postpartum (p  <0.01). increased bacterial counts over time were found for neisseria mucosa (p <0.001). lower counts (p <0.001) were found for capnocytophaga ochracea, capnocytophaga sputigena, eubacterium saburreum, fusobacterium nucleatum naviforme, fusobacterium nucleatum polymorphum, leptotrichia buccalis, parvimonas micra (previously peptostreptococcus micros or micromonas micros), prevotella intermedia, prevotella melaninogenica, staphylococcus aureus, streptococcus anginosus, streptococcus intermedius, streptococcus mutans, streptococcus oralis, streptococcus sanguinis, selenomonas noxia, and veillonella parvula. no changes occurred between weeks 12 and 28 of pregnancy. counts of aggregatibacter actinomycetemcomitans (previously actinobacillus actinomycetemcomitans), porphyromonas gingivalis, tannerella forsythia (previously t. forsythensis), and  treponema denticola did not change. counts of p. gingivalis and t. forsythia at week 12 were associated with gingivitis (p <0.001). conclusions: subgingival levels of bacteria associated with periodontitis did not change. p. gingivalis and t. forsythia counts were associated with bop at week 12. a decrease was found in 17 of 37 species from week 12 to postpartum. only counts of n. mucosa increased.',\n",
       "  'ABHT': '',\n",
       "  'PMID': '19228092',\n",
       "  'TI  ': 'does pregnancy have an impact on the subgingival microbiota?',\n",
       "  'TIHT': ''}]"
      ]
     },
     "execution_count": 131,
     "metadata": {},
     "output_type": "execute_result"
    }
   ],
   "source": [
    "sp_file.papers"
   ]
  },
  {
   "cell_type": "code",
   "execution_count": 32,
   "metadata": {
    "ExecuteTime": {
     "end_time": "2019-04-23T20:40:09.443413Z",
     "start_time": "2019-04-23T20:40:09.435236Z"
    }
   },
   "outputs": [
    {
     "data": {
      "text/plain": [
       "['Lactobacillus crispatus', 'Gardnerella vaginalis']"
      ]
     },
     "execution_count": 32,
     "metadata": {},
     "output_type": "execute_result"
    }
   ],
   "source": [
    "sp_file.species_names"
   ]
  },
  {
   "cell_type": "code",
   "execution_count": 51,
   "metadata": {
    "ExecuteTime": {
     "end_time": "2019-04-23T20:55:38.316449Z",
     "start_time": "2019-04-23T20:53:07.471014Z"
    }
   },
   "outputs": [
    {
     "name": "stdout",
     "output_type": "stream",
     "text": [
      "set_1: number of .sp files: 155\n",
      "set_2: number of .sp files: 150\n",
      "set_3: number of .sp files: 153\n",
      "set_4: number of .sp files: 135\n",
      "set_5: number of .sp files: 153\n"
     ]
    }
   ],
   "source": []
  },
  {
   "cell_type": "code",
   "execution_count": 64,
   "metadata": {
    "ExecuteTime": {
     "end_time": "2019-04-23T21:00:40.341858Z",
     "start_time": "2019-04-23T21:00:40.337758Z"
    },
    "collapsed": true
   },
   "outputs": [],
   "source": [
    "all_pairs = []\n",
    "for sample in sample_set:\n",
    "    sample['pairs'] = [tuple(pair) for pair in sample['pairs']]\n",
    "    all_pairs += sample['pairs']"
   ]
  },
  {
   "cell_type": "code",
   "execution_count": 73,
   "metadata": {
    "ExecuteTime": {
     "end_time": "2019-04-23T21:10:05.339455Z",
     "start_time": "2019-04-23T21:10:05.287021Z"
    }
   },
   "outputs": [
    {
     "name": "stdout",
     "output_type": "stream",
     "text": [
      "[(('Streptococcus cristatus', 'Capnocytophaga gingivalis'),\n",
      "  [True, True, False, False, False]),\n",
      " (('Staphylococcus aureus', 'Desulfovibrio desulfuricans'),\n",
      "  [True, False, True, False, False]),\n",
      " (('Bacteroides caccae', 'Faecalibacterium prausnitzii'),\n",
      "  [False, True, False, True, False]),\n",
      " (('Bacteroides uniformis', 'Bacteroides coprocola'),\n",
      "  [False, False, True, True, False]),\n",
      " (('Streptococcus oralis', 'Haemophilus influenzae'),\n",
      "  [False, False, True, True, False]),\n",
      " (('Ruminococcus flavefaciens', 'Fusobacterium gonidiaformans'),\n",
      "  [True, True, False, False, False]),\n",
      " (('Zymomonas mobilis', 'Propionibacterium freudenreichii'),\n",
      "  [True, False, True, False, False]),\n",
      " (('Lactobacillus amylovorus', 'Lactobacillus casei'),\n",
      "  [False, True, True, False, False]),\n",
      " (('Yersinia enterocolitica', 'Fusobacterium varium'),\n",
      "  [False, False, True, True, False]),\n",
      " (('Atopobium vaginae', 'Bacteroides fragilis'),\n",
      "  [True, False, True, False, False]),\n",
      " (('Paracoccus denitrificans', 'Salmonella enterica'),\n",
      "  [False, True, False, True, False])]\n"
     ]
    }
   ],
   "source": [
    "import numpy as np\n",
    "import pprint\n",
    "\n",
    "repeat_pairs = [(pair,[pair in sample['pairs'] for sample in sample_set]) for pair in set(all_pairs)\n",
    "                if np.sum([pair in sample['pairs'] for sample in sample_set]) > 1]\n",
    "pprint.pprint(repeat_pairs)"
   ]
  },
  {
   "cell_type": "code",
   "execution_count": 82,
   "metadata": {
    "ExecuteTime": {
     "end_time": "2019-04-23T21:14:57.031494Z",
     "start_time": "2019-04-23T21:14:57.028663Z"
    },
    "collapsed": true
   },
   "outputs": [],
   "source": [
    "file_1 = collated_data_root + 'set_3/Yersinia_enterocolitica#Fusobacterium_varium.sp'\n",
    "file_2 = collated_data_root + 'set_4/Yersinia_enterocolitica#Fusobacterium_varium.sp'\n",
    "\n",
    "spFile_1 = spFile(spFilePath=file_1)\n",
    "spFile_2 = spFile(spFilePath=file_2)"
   ]
  },
  {
   "cell_type": "code",
   "execution_count": 83,
   "metadata": {
    "ExecuteTime": {
     "end_time": "2019-04-23T21:14:58.573501Z",
     "start_time": "2019-04-23T21:14:58.568543Z"
    }
   },
   "outputs": [
    {
     "name": "stdout",
     "output_type": "stream",
     "text": [
      "['2875188']\n",
      "['2875188']\n"
     ]
    }
   ],
   "source": [
    "pprint.pprint([paper['PMID'] for paper in spFile_1.papers])\n",
    "pprint.pprint([paper['PMID'] for paper in spFile_2.papers])"
   ]
  }
 ],
 "metadata": {
  "celltoolbar": "Initialization Cell",
  "kernelspec": {
   "display_name": "Python [conda env:anaconda3-5.0.1]",
   "language": "python",
   "name": "conda-env-anaconda3-5.0.1-py"
  },
  "language_info": {
   "codemirror_mode": {
    "name": "ipython",
    "version": 3
   },
   "file_extension": ".py",
   "mimetype": "text/x-python",
   "name": "python",
   "nbconvert_exporter": "python",
   "pygments_lexer": "ipython3",
   "version": "3.6.3"
  },
  "toc": {
   "nav_menu": {},
   "number_sections": true,
   "sideBar": true,
   "skip_h1_title": false,
   "toc_cell": false,
   "toc_position": {},
   "toc_section_display": "block",
   "toc_window_display": false
  }
 },
 "nbformat": 4,
 "nbformat_minor": 2
}
